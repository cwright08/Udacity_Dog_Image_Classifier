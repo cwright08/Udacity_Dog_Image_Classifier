{
 "cells": [
  {
   "cell_type": "markdown",
   "metadata": {},
   "source": [
    "# Data Scientist Nanodegree\n",
    "\n",
    "## Convolutional Neural Networks\n",
    "\n",
    "## Project: Write an Algorithm for a Dog Identification App \n",
    "\n",
    "\n",
    "This notebook walks you through one of the most popular Udacity projects across machine learning and artificial intellegence nanodegree programs.  The goal is to classify images of dogs according to their breed.  \n",
    "\n",
    "If you are looking for a more guided capstone project related to deep learning and convolutional neural networks, this might be just it.  Notice that even if you follow the notebook to creating your classifier, you must still create a blog post or deploy an application to fulfill the requirements of the capstone project.\n",
    "\n",
    "Also notice, you may be able to use only parts of this notebook (for example certain coding portions or the data) without completing all parts and still meet all requirements of the capstone project.\n",
    "\n",
    "---\n",
    "\n",
    "In this notebook, some template code has already been provided for you, and you will need to implement additional functionality to successfully complete this project. You will not need to modify the included code beyond what is requested. Sections that begin with **'(IMPLEMENTATION)'** in the header indicate that the following block of code will require additional functionality which you must provide. Instructions will be provided for each section, and the specifics of the implementation are marked in the code block with a 'TODO' statement. Please be sure to read the instructions carefully! \n",
    "\n",
    "In addition to implementing code, there will be questions that you must answer which relate to the project and your implementation. Each section where you will answer a question is preceded by a **'Question X'** header. Carefully read each question and provide thorough answers in the following text boxes that begin with **'Answer:'**. Your project submission will be evaluated based on your answers to each of the questions and the implementation you provide.\n",
    "\n",
    ">**Note:** Code and Markdown cells can be executed using the **Shift + Enter** keyboard shortcut.  Markdown cells can be edited by double-clicking the cell to enter edit mode.\n",
    "\n",
    "The rubric contains _optional_ \"Stand Out Suggestions\" for enhancing the project beyond the minimum requirements. If you decide to pursue the \"Stand Out Suggestions\", you should include the code in this IPython notebook.\n",
    "\n",
    "\n",
    "\n",
    "---\n",
    "### Why We're Here \n",
    "\n",
    "In this notebook, you will make the first steps towards developing an algorithm that could be used as part of a mobile or web app.  At the end of this project, your code will accept any user-supplied image as input.  If a dog is detected in the image, it will provide an estimate of the dog's breed.  If a human is detected, it will provide an estimate of the dog breed that is most resembling.  The image below displays potential sample output of your finished project (... but we expect that each student's algorithm will behave differently!). \n",
    "\n",
    "![Sample Dog Output](images/sample_dog_output.png)\n",
    "\n",
    "In this real-world setting, you will need to piece together a series of models to perform different tasks; for instance, the algorithm that detects humans in an image will be different from the CNN that infers dog breed.  There are many points of possible failure, and no perfect algorithm exists.  Your imperfect solution will nonetheless create a fun user experience!\n",
    "\n",
    "### The Road Ahead\n",
    "\n",
    "We break the notebook into separate steps.  Feel free to use the links below to navigate the notebook.\n",
    "\n",
    "* [Step 0](#step0): Import Datasets\n",
    "* [Step 1](#step1): Detect Humans\n",
    "* [Step 2](#step2): Detect Dogs\n",
    "* [Step 3](#step3): Create a CNN to Classify Dog Breeds (from Scratch)\n",
    "* [Step 4](#step4): Use a CNN to Classify Dog Breeds (using Transfer Learning)\n",
    "* [Step 5](#step5): Create a CNN to Classify Dog Breeds (using Transfer Learning)\n",
    "* [Step 6](#step6): Write your Algorithm\n",
    "* [Step 7](#step7): Test Your Algorithm\n",
    "\n",
    "---\n",
    "<a id='step0'></a>\n",
    "## Step 0: Import Datasets\n",
    "\n",
    "### Import Dog Dataset\n",
    "\n",
    "In the code cell below, we import a dataset of dog images.  We populate a few variables through the use of the `load_files` function from the scikit-learn library:\n",
    "- `train_files`, `valid_files`, `test_files` - numpy arrays containing file paths to images\n",
    "- `train_targets`, `valid_targets`, `test_targets` - numpy arrays containing onehot-encoded classification labels \n",
    "- `dog_names` - list of string-valued dog breed names for translating labels"
   ]
  },
  {
   "cell_type": "code",
   "execution_count": 82,
   "metadata": {},
   "outputs": [
    {
     "name": "stdout",
     "output_type": "stream",
     "text": [
      "There are 133 total dog categories.\n",
      "There are 8351 total dog images.\n",
      "\n",
      "There are 6680 training dog images.\n",
      "There are 835 validation dog images.\n",
      "There are 836 test dog images.\n"
     ]
    }
   ],
   "source": [
    "from sklearn.datasets import load_files       \n",
    "from keras.utils import np_utils\n",
    "import numpy as np\n",
    "from glob import glob\n",
    "import pandas as pd\n",
    "import matplotlib as plt\n",
    "from keras.layers import Conv2D, MaxPooling2D, GlobalAveragePooling2D\n",
    "from keras.layers import Dropout, Flatten, Dense\n",
    "from keras.models import Sequential\n",
    "from keras.callbacks import ModelCheckpoint  \n",
    "\n",
    "# define function to load train, test, and validation datasets\n",
    "def load_dataset(path):\n",
    "    data = load_files(path)\n",
    "    dog_files = np.array(data['filenames'])\n",
    "    dog_targets = np_utils.to_categorical(np.array(data['target']), 133)\n",
    "    return dog_files, dog_targets\n",
    "\n",
    "# load train, test, and validation datasets\n",
    "train_files, train_targets = load_dataset('../../../data/dog_images/train')\n",
    "valid_files, valid_targets = load_dataset('../../../data/dog_images/valid')\n",
    "test_files, test_targets = load_dataset('../../../data/dog_images/test')\n",
    "\n",
    "# load list of dog names\n",
    "dog_names = [item[20:-1] for item in sorted(glob(\"../../../data/dog_images/train/*/\"))]\n",
    "\n",
    "# print statistics about the dataset\n",
    "print('There are %d total dog categories.' % len(dog_names))\n",
    "print('There are %s total dog images.\\n' % len(np.hstack([train_files, valid_files, test_files])))\n",
    "print('There are %d training dog images.' % len(train_files))\n",
    "print('There are %d validation dog images.' % len(valid_files))\n",
    "print('There are %d test dog images.'% len(test_files))"
   ]
  },
  {
   "cell_type": "code",
   "execution_count": 213,
   "metadata": {},
   "outputs": [],
   "source": [
    "# import pickle\n",
    "\n",
    "# file_name = \"dog_names.pkl\"\n",
    "\n",
    "# open_file = open(file_name, \"wb\")\n",
    "# pickle.dump(dog_names, open_file)\n",
    "# open_file.close()\n",
    "\n",
    "# open_file = open(file_name, \"rb\")\n",
    "# loaded_list = pickle.load(open_file)\n",
    "# open_file.close()"
   ]
  },
  {
   "cell_type": "markdown",
   "metadata": {},
   "source": [
    "### Import Human Dataset\n",
    "\n",
    "In the code cell below, we import a dataset of human images, where the file paths are stored in the numpy array `human_files`."
   ]
  },
  {
   "cell_type": "code",
   "execution_count": 214,
   "metadata": {},
   "outputs": [
    {
     "name": "stdout",
     "output_type": "stream",
     "text": [
      "There are 13233 total human images.\n"
     ]
    }
   ],
   "source": [
    "import random\n",
    "random.seed(8675309)\n",
    "\n",
    "# load filenames in shuffled human dataset\n",
    "human_files = np.array(glob(\"../../../data/lfw/*/*\"))\n",
    "random.shuffle(human_files)\n",
    "\n",
    "# print statistics about the dataset\n",
    "print('There are %d total human images.' % len(human_files))"
   ]
  },
  {
   "cell_type": "markdown",
   "metadata": {},
   "source": [
    "---\n",
    "<a id='step1'></a>\n",
    "## Step 1: Detect Humans\n",
    "\n",
    "We use OpenCV's implementation of [Haar feature-based cascade classifiers](http://docs.opencv.org/trunk/d7/d8b/tutorial_py_face_detection.html) to detect human faces in images.  OpenCV provides many pre-trained face detectors, stored as XML files on [github](https://github.com/opencv/opencv/tree/master/data/haarcascades).  We have downloaded one of these detectors and stored it in the `haarcascades` directory.\n",
    "\n",
    "In the next code cell, we demonstrate how to use this detector to find human faces in a sample image."
   ]
  },
  {
   "cell_type": "code",
   "execution_count": 215,
   "metadata": {},
   "outputs": [
    {
     "name": "stdout",
     "output_type": "stream",
     "text": [
      "Number of faces detected: 1\n"
     ]
    },
    {
     "data": {
      "image/png": "[encoded data removed]",
      "text/plain": [
       "<matplotlib.figure.Figure at 0x7f73b0bcada0>"
      ]
     },
     "metadata": {
      "needs_background": "light"
     },
     "output_type": "display_data"
    }
   ],
   "source": [
    "import cv2                \n",
    "import matplotlib.pyplot as plt                        \n",
    "%matplotlib inline                               \n",
    "\n",
    "# extract pre-trained face detector\n",
    "face_cascade = cv2.CascadeClassifier('haarcascades/haarcascade_frontalface_alt.xml')\n",
    "\n",
    "# load color (BGR) image\n",
    "img = cv2.imread(human_files[1])\n",
    "# convert BGR image to grayscale\n",
    "gray = cv2.cvtColor(img, cv2.COLOR_BGR2GRAY)\n",
    "\n",
    "# find faces in image\n",
    "faces = face_cascade.detectMultiScale(gray)\n",
    "\n",
    "# print number of faces detected in the image\n",
    "print('Number of faces detected:', len(faces))\n",
    "\n",
    "# get bounding box for each detected face\n",
    "for (x,y,w,h) in faces:\n",
    "    # add bounding box to color image\n",
    "    cv2.rectangle(img,(x,y),(x+w,y+h),(255,0,0),2)\n",
    "    \n",
    "# convert BGR image to RGB for plotting\n",
    "cv_rgb = cv2.cvtColor(img, cv2.COLOR_BGR2RGB)\n",
    "\n",
    "# display the image, along with bounding box\n",
    "plt.imshow(cv_rgb)\n",
    "plt.show()"
   ]
  },
  {
   "cell_type": "markdown",
   "metadata": {},
   "source": [
    "Before using any of the face detectors, it is standard procedure to convert the images to grayscale.  The `detectMultiScale` function executes the classifier stored in `face_cascade` and takes the grayscale image as a parameter.  \n",
    "\n",
    "In the above code, `faces` is a numpy array of detected faces, where each row corresponds to a detected face.  Each detected face is a 1D array with four entries that specifies the bounding box of the detected face.  The first two entries in the array (extracted in the above code as `x` and `y`) specify the horizontal and vertical positions of the top left corner of the bounding box.  The last two entries in the array (extracted here as `w` and `h`) specify the width and height of the box.\n",
    "\n",
    "### Write a Human Face Detector\n",
    "\n",
    "We can use this procedure to write a function that returns `True` if a human face is detected in an image and `False` otherwise.  This function, aptly named `face_detector`, takes a string-valued file path to an image as input and appears in the code block below."
   ]
  },
  {
   "cell_type": "code",
   "execution_count": 216,
   "metadata": {},
   "outputs": [],
   "source": [
    "# returns \"True\" if face is detected in image stored at img_path\n",
    "def face_detector(img_path):\n",
    "    img = cv2.imread(img_path)\n",
    "    gray = cv2.cvtColor(img, cv2.COLOR_BGR2GRAY)\n",
    "    faces = face_cascade.detectMultiScale(gray)\n",
    "    return len(faces) > 0"
   ]
  },
  {
   "cell_type": "markdown",
   "metadata": {},
   "source": [
    "### (IMPLEMENTATION) Assess the Human Face Detector\n",
    "\n",
    "__Question 1:__ Use the code cell below to test the performance of the `face_detector` function.  \n",
    "- What percentage of the first 100 images in `human_files` have a detected human face?  \n",
    "- What percentage of the first 100 images in `dog_files` have a detected human face? \n",
    "\n",
    "Ideally, we would like 100% of human images with a detected face and 0% of dog images with a detected face.  You will see that our algorithm falls short of this goal, but still gives acceptable performance.  We extract the file paths for the first 100 images from each of the datasets and store them in the numpy arrays `human_files_short` and `dog_files_short`.\n",
    "\n",
    "__Answer:__ "
   ]
  },
  {
   "cell_type": "code",
   "execution_count": 217,
   "metadata": {},
   "outputs": [
    {
     "name": "stdout",
     "output_type": "stream",
     "text": [
      "Percentage of human faces identified - humans : 1.0\n",
      "Percentage of human faces identified - dogs: 0.11\n"
     ]
    }
   ],
   "source": [
    "human_files_short = human_files[:100]\n",
    "dog_files_short = train_files[:100]\n",
    "# Do NOT modify the code above this line.\n",
    "\n",
    "## TODO: Test the performance of the face_detector algorithm \n",
    "## on the images in human_files_short and dog_files_short.\n",
    "\n",
    "face=0\n",
    "noface=0\n",
    "\n",
    "##Check human images\n",
    "for image in human_files_short:\n",
    "    if(face_detector(image) == True):\n",
    "        face+=1\n",
    "    else: \n",
    "        noface+=1\n",
    "        \n",
    "##Check Dog imagines\n",
    "dogface = 0 \n",
    "nodogface=0\n",
    "\n",
    "for image in dog_files_short:\n",
    "    if(face_detector(image) == True):\n",
    "        dogface+=1\n",
    "    else: \n",
    "        nodogface+=1\n",
    "\n",
    "print(\"Percentage of human faces identified - humans :\",face/len(human_files_short))\n",
    "print(\"Percentage of human faces identified - dogs:\",dogface/len(dog_files_short))\n",
    "\n"
   ]
  },
  {
   "cell_type": "markdown",
   "metadata": {},
   "source": [
    "100% of humans have got detected human faces - which is extremly good performance - indicating the imagines in the test set are very clear and representative of the training set that was used. However, 11% of the dog images return a positive for human test - this is less than ideal. "
   ]
  },
  {
   "cell_type": "markdown",
   "metadata": {},
   "source": [
    "__Question 2:__ This algorithmic choice necessitates that we communicate to the user that we accept human images only when they provide a clear view of a face (otherwise, we risk having unneccessarily frustrated users!). In your opinion, is this a reasonable expectation to pose on the user? If not, can you think of a way to detect humans in images that does not necessitate an image with a clearly presented face?\n",
    "\n",
    "__Answer:__ One problem with requriing only clear human images is that this would mean we could not use the algoritm for procesing real world / real time data, as it would not be possible to ensure that all the images in this case would be clear enough. It is not reasonable to expect a human to provide such a clear image in a real world application.\n",
    "\n",
    "In order to better detect human images in not clear images provided, we would have to use a different model that was able to detect faces in a larger variety of circumstances. \n",
    "\n"
   ]
  },
  {
   "cell_type": "markdown",
   "metadata": {},
   "source": [
    "---\n",
    "<a id='step2'></a>\n",
    "## Step 2: Detect Dogs\n",
    "\n",
    "In this section, we use a pre-trained [ResNet-50](http://ethereon.github.io/netscope/#/gist/db945b393d40bfa26006) model to detect dogs in images.  Our first line of code downloads the ResNet-50 model, along with weights that have been trained on [ImageNet](http://www.image-net.org/), a very large, very popular dataset used for image classification and other vision tasks.  ImageNet contains over 10 million URLs, each linking to an image containing an object from one of [1000 categories](https://gist.github.com/yrevar/942d3a0ac09ec9e5eb3a).  Given an image, this pre-trained ResNet-50 model returns a prediction (derived from the available categories in ImageNet) for the object that is contained in the image."
   ]
  },
  {
   "cell_type": "code",
   "execution_count": 218,
   "metadata": {},
   "outputs": [
    {
     "name": "stdout",
     "output_type": "stream",
     "text": [
      "Downloading data from https://github.com/fchollet/deep-learning-models/releases/download/v0.2/resnet50_weights_tf_dim_ordering_tf_kernels.h5\n",
      "102858752/102853048 [==============================] - 2s 0us/step\n"
     ]
    }
   ],
   "source": [
    "from keras.applications.resnet50 import ResNet50\n",
    "\n",
    "# define ResNet50 model\n",
    "ResNet50_model = ResNet50(weights='imagenet')"
   ]
  },
  {
   "cell_type": "markdown",
   "metadata": {},
   "source": [
    "### Pre-process the Data\n",
    "\n",
    "When using TensorFlow as backend, Keras CNNs require a 4D array (which we'll also refer to as a 4D tensor) as input, with shape\n",
    "\n",
    "$$\n",
    "(\\text{nb_samples}, \\text{rows}, \\text{columns}, \\text{channels}),\n",
    "$$\n",
    "\n",
    "where `nb_samples` corresponds to the total number of images (or samples), and `rows`, `columns`, and `channels` correspond to the number of rows, columns, and channels for each image, respectively.  \n",
    "\n",
    "The `path_to_tensor` function below takes a string-valued file path to a color image as input and returns a 4D tensor suitable for supplying to a Keras CNN.  The function first loads the image and resizes it to a square image that is $224 \\times 224$ pixels.  Next, the image is converted to an array, which is then resized to a 4D tensor.  In this case, since we are working with color images, each image has three channels.  Likewise, since we are processing a single image (or sample), the returned tensor will always have shape\n",
    "\n",
    "$$\n",
    "(1, 224, 224, 3).\n",
    "$$\n",
    "\n",
    "The `paths_to_tensor` function takes a numpy array of string-valued image paths as input and returns a 4D tensor with shape \n",
    "\n",
    "$$\n",
    "(\\text{nb_samples}, 224, 224, 3).\n",
    "$$\n",
    "\n",
    "Here, `nb_samples` is the number of samples, or number of images, in the supplied array of image paths.  It is best to think of `nb_samples` as the number of 3D tensors (where each 3D tensor corresponds to a different image) in your dataset!"
   ]
  },
  {
   "cell_type": "code",
   "execution_count": 219,
   "metadata": {},
   "outputs": [],
   "source": [
    "from keras.preprocessing import image                  \n",
    "from tqdm import tqdm\n",
    "from PIL import ImageFile                            \n",
    "ImageFile.LOAD_TRUNCATED_IMAGES = True  \n",
    "\n",
    "def path_to_tensor(img_path):\n",
    "    # loads RGB image as PIL.Image.Image type\n",
    "    img = image.load_img(img_path, target_size=(224, 224))\n",
    "    # convert PIL.Image.Image type to 3D tensor with shape (224, 224, 3)\n",
    "    x = image.img_to_array(img)\n",
    "    # convert 3D tensor to 4D tensor with shape (1, 224, 224, 3) and return 4D tensor\n",
    "    return np.expand_dims(x, axis=0)\n",
    "\n",
    "def paths_to_tensor(img_paths):\n",
    "    list_of_tensors = [path_to_tensor(img_path) for img_path in tqdm(img_paths)]\n",
    "    return np.vstack(list_of_tensors)"
   ]
  },
  {
   "cell_type": "markdown",
   "metadata": {},
   "source": [
    "### Making Predictions with ResNet-50\n",
    "\n",
    "Getting the 4D tensor ready for ResNet-50, and for any other pre-trained model in Keras, requires some additional processing.  First, the RGB image is converted to BGR by reordering the channels.  All pre-trained models have the additional normalization step that the mean pixel (expressed in RGB as $[103.939, 116.779, 123.68]$ and calculated from all pixels in all images in ImageNet) must be subtracted from every pixel in each image.  This is implemented in the imported function `preprocess_input`.  If you're curious, you can check the code for `preprocess_input` [here](https://github.com/fchollet/keras/blob/master/keras/applications/imagenet_utils.py).\n",
    "\n",
    "Now that we have a way to format our image for supplying to ResNet-50, we are now ready to use the model to extract the predictions.  This is accomplished with the `predict` method, which returns an array whose $i$-th entry is the model's predicted probability that the image belongs to the $i$-th ImageNet category.  This is implemented in the `ResNet50_predict_labels` function below.\n",
    "\n",
    "By taking the argmax of the predicted probability vector, we obtain an integer corresponding to the model's predicted object class, which we can identify with an object category through the use of this [dictionary](https://gist.github.com/yrevar/942d3a0ac09ec9e5eb3a). "
   ]
  },
  {
   "cell_type": "code",
   "execution_count": 220,
   "metadata": {},
   "outputs": [],
   "source": [
    "from keras.applications.resnet50 import preprocess_input, decode_predictions\n",
    "\n",
    "def ResNet50_predict_labels(img_path):\n",
    "    # returns prediction vector for image located at img_path\n",
    "    image_p = preprocess_input(path_to_tensor(img_path))\n",
    "    return np.argmax(ResNet50_model.predict(image_p))"
   ]
  },
  {
   "cell_type": "markdown",
   "metadata": {},
   "source": [
    "### Write a Dog Detector\n",
    "\n",
    "While looking at the [dictionary](https://gist.github.com/yrevar/942d3a0ac09ec9e5eb3a), you will notice that the categories corresponding to dogs appear in an uninterrupted sequence and correspond to dictionary keys 151-268, inclusive, to include all categories from `'Chihuahua'` to `'Mexican hairless'`.  Thus, in order to check to see if an image is predicted to contain a dog by the pre-trained ResNet-50 model, we need only check if the `ResNet50_predict_labels` function above returns a value between 151 and 268 (inclusive).\n",
    "\n",
    "We use these ideas to complete the `dog_detector` function below, which returns `True` if a dog is detected in an image (and `False` if not)."
   ]
  },
  {
   "cell_type": "code",
   "execution_count": 221,
   "metadata": {},
   "outputs": [
    {
     "data": {
      "text/plain": [
       "False"
      ]
     },
     "execution_count": 221,
     "metadata": {},
     "output_type": "execute_result"
    }
   ],
   "source": [
    "### returns \"True\" if a dog is detected in the image stored at img_path\n",
    "def dog_detector(img_path):\n",
    "    prediction = ResNet50_predict_labels(img_path)\n",
    "    return ((prediction <= 268) & (prediction >= 151)) \n",
    "\n",
    "# dog_detector(human_files_short[0])\n",
    "#human_files_short[1]\n",
    "dog_detector(human_files_short[3])\n",
    "#human_files_short[3]"
   ]
  },
  {
   "cell_type": "markdown",
   "metadata": {},
   "source": [
    "### (IMPLEMENTATION) Assess the Dog Detector\n",
    "\n",
    "__Question 3:__ Use the code cell below to test the performance of your `dog_detector` function.  \n",
    "- What percentage of the images in `human_files_short` have a detected dog?  \n",
    "- What percentage of the images in `dog_files_short` have a detected dog?\n",
    "\n",
    "__Answer:__ "
   ]
  },
  {
   "cell_type": "code",
   "execution_count": 222,
   "metadata": {},
   "outputs": [
    {
     "name": "stdout",
     "output_type": "stream",
     "text": [
      "Percentage of dogs in human images: 0.0\n",
      "Percentage of dogs in dog images: 1.0\n"
     ]
    }
   ],
   "source": [
    "### TODO: Test the performance of the dog_detector function\n",
    "### on the images in human_files_short and dog_files_short.\n",
    "\n",
    "dog =0\n",
    "no_dog = 0 \n",
    "\n",
    "#Check if humanfiles_short have a dog?\n",
    "for pict in human_files_short:\n",
    "    if(dog_detector(pict) == True):\n",
    "        dog+=1\n",
    "    else:\n",
    "        no_dog+=1\n",
    "        \n",
    "##Check Dog imagines\n",
    "dogindog = 0 \n",
    "nodogindog =0\n",
    "\n",
    "for pict in dog_files_short:\n",
    "    if(dog_detector(pict) == True):\n",
    "        dogindog+=1\n",
    "    else:\n",
    "        nodogindog+=1\n",
    "\n",
    "print(\"Percentage of dogs in human images:\",dog/len(human_files_short))\n",
    "print(\"Percentage of dogs in dog images:\",dogindog/len(dog_files_short))\n",
    "\n"
   ]
  },
  {
   "cell_type": "markdown",
   "metadata": {},
   "source": [
    "---\n",
    "<a id='step3'></a>\n",
    "## Step 3: Create a CNN to Classify Dog Breeds (from Scratch)\n",
    "\n",
    "Now that we have functions for detecting humans and dogs in images, we need a way to predict breed from images.  In this step, you will create a CNN that classifies dog breeds.  You must create your CNN _from scratch_ (so, you can't use transfer learning _yet_!), and you must attain a test accuracy of at least 1%.  In Step 5 of this notebook, you will have the opportunity to use transfer learning to create a CNN that attains greatly improved accuracy.\n",
    "\n",
    "Be careful with adding too many trainable layers!  More parameters means longer training, which means you are more likely to need a GPU to accelerate the training process.  Thankfully, Keras provides a handy estimate of the time that each epoch is likely to take; you can extrapolate this estimate to figure out how long it will take for your algorithm to train. \n",
    "\n",
    "We mention that the task of assigning breed to dogs from images is considered exceptionally challenging.  To see why, consider that *even a human* would have great difficulty in distinguishing between a Brittany and a Welsh Springer Spaniel.  \n",
    "\n",
    "Brittany | Welsh Springer Spaniel\n",
    "- | - \n",
    "<img src=\"images/Brittany_02625.jpg\" width=\"100\"> | <img src=\"images/Welsh_springer_spaniel_08203.jpg\" width=\"200\">\n",
    "\n",
    "It is not difficult to find other dog breed pairs with minimal inter-class variation (for instance, Curly-Coated Retrievers and American Water Spaniels).  \n",
    "\n",
    "Curly-Coated Retriever | American Water Spaniel\n",
    "- | -\n",
    "<img src=\"images/Curly-coated_retriever_03896.jpg\" width=\"200\"> | <img src=\"images/American_water_spaniel_00648.jpg\" width=\"200\">\n",
    "\n",
    "\n",
    "Likewise, recall that labradors come in yellow, chocolate, and black.  Your vision-based algorithm will have to conquer this high intra-class variation to determine how to classify all of these different shades as the same breed.  \n",
    "\n",
    "Yellow Labrador | Chocolate Labrador | Black Labrador\n",
    "- | -\n",
    "<img src=\"images/Labrador_retriever_06457.jpg\" width=\"150\"> | <img src=\"images/Labrador_retriever_06455.jpg\" width=\"240\"> | <img src=\"images/Labrador_retriever_06449.jpg\" width=\"220\">\n",
    "\n",
    "We also mention that random chance presents an exceptionally low bar: setting aside the fact that the classes are slightly imabalanced, a random guess will provide a correct answer roughly 1 in 133 times, which corresponds to an accuracy of less than 1%.  \n",
    "\n",
    "Remember that the practice is far ahead of the theory in deep learning.  Experiment with many different architectures, and trust your intuition.  And, of course, have fun! \n",
    "\n",
    "### Pre-process the Data\n",
    "\n",
    "We rescale the images by dividing every pixel in every image by 255."
   ]
  },
  {
   "cell_type": "code",
   "execution_count": 223,
   "metadata": {},
   "outputs": [
    {
     "name": "stderr",
     "output_type": "stream",
     "text": [
      "100%|██████████| 6680/6680 [01:06<00:00, 99.91it/s] \n",
      "100%|██████████| 835/835 [00:07<00:00, 113.08it/s]\n",
      "100%|██████████| 836/836 [00:07<00:00, 114.45it/s]\n"
     ]
    }
   ],
   "source": [
    "from keras.preprocessing import image                  \n",
    "from tqdm import tqdm\n",
    "\n",
    "# def path_to_tensor(img_path):\n",
    "#     # loads RGB image as PIL.Image.Image type\n",
    "#     img = image.load_img(img_path, target_size=(224, 224))\n",
    "#     # convert PIL.Image.Image type to 3D tensor with shape (224, 224, 3)\n",
    "#     x = image.img_to_array(img)\n",
    "#     # convert 3D tensor to 4D tensor with shape (1, 224, 224, 3) and return 4D tensor\n",
    "#     return np.expand_dims(x, axis=0)\n",
    "\n",
    "# def paths_to_tensor(img_paths):\n",
    "#     list_of_tensors = [path_to_tensor(img_path) for img_path in tqdm(img_paths)]\n",
    "#     return np.vstack(list_of_tensors)\n",
    "\n",
    "# pre-process the data for Keras\n",
    "train_tensors = paths_to_tensor(train_files).astype('float32')/255\n",
    "valid_tensors = paths_to_tensor(valid_files).astype('float32')/255\n",
    "test_tensors = paths_to_tensor(test_files).astype('float32')/255"
   ]
  },
  {
   "cell_type": "code",
   "execution_count": 224,
   "metadata": {},
   "outputs": [
    {
     "data": {
      "text/plain": [
       "(6680, 224, 224, 3)"
      ]
     },
     "execution_count": 224,
     "metadata": {},
     "output_type": "execute_result"
    }
   ],
   "source": [
    "train_tensors.shape"
   ]
  },
  {
   "cell_type": "markdown",
   "metadata": {},
   "source": [
    "### (IMPLEMENTATION) Model Architecture\n",
    "\n",
    "Create a CNN to classify dog breed.  At the end of your code cell block, summarize the layers of your model by executing the line:\n",
    "    \n",
    "        model.summary()\n",
    "\n",
    "We have imported some Python modules to get you started, but feel free to import as many modules as you need.  If you end up getting stuck, here's a hint that specifies a model that trains relatively fast on CPU and attains >1% test accuracy in 5 epochs:\n",
    "\n",
    "![Sample CNN](images/sample_cnn.png)\n",
    "           \n",
    "__Question 4:__ Outline the steps you took to get to your final CNN architecture and your reasoning at each step.  If you chose to use the hinted architecture above, describe why you think that CNN architecture should work well for the image classification task.\n",
    "\n",
    "__Answer:__ "
   ]
  },
  {
   "cell_type": "code",
   "execution_count": 225,
   "metadata": {},
   "outputs": [
    {
     "name": "stdout",
     "output_type": "stream",
     "text": [
      "_________________________________________________________________\n",
      "Layer (type)                 Output Shape              Param #   \n",
      "=================================================================\n",
      "conv2d_1 (Conv2D)            (None, 224, 224, 16)      208       \n",
      "_________________________________________________________________\n",
      "max_pooling2d_2 (MaxPooling2 (None, 112, 112, 16)      0         \n",
      "_________________________________________________________________\n",
      "conv2d_2 (Conv2D)            (None, 112, 112, 32)      2080      \n",
      "_________________________________________________________________\n",
      "max_pooling2d_3 (MaxPooling2 (None, 56, 56, 32)        0         \n",
      "_________________________________________________________________\n",
      "conv2d_3 (Conv2D)            (None, 56, 56, 64)        8256      \n",
      "_________________________________________________________________\n",
      "global_average_pooling2d_1 ( (None, 64)                0         \n",
      "_________________________________________________________________\n",
      "dropout_1 (Dropout)          (None, 64)                0         \n",
      "_________________________________________________________________\n",
      "dense_1 (Dense)              (None, 256)               16640     \n",
      "_________________________________________________________________\n",
      "dropout_2 (Dropout)          (None, 256)               0         \n",
      "_________________________________________________________________\n",
      "dense_2 (Dense)              (None, 133)               34181     \n",
      "=================================================================\n",
      "Total params: 61,365\n",
      "Trainable params: 61,365\n",
      "Non-trainable params: 0\n",
      "_________________________________________________________________\n"
     ]
    }
   ],
   "source": [
    "model = Sequential()\n",
    "\n",
    "### TODO: Define your architecture.\n",
    "\n",
    "model.add(Conv2D(filters=16, kernel_size=2, padding='same', activation='relu',\n",
    "                 input_shape=(224, 224, 3)))\n",
    "model.add(MaxPooling2D(pool_size=2))\n",
    "model.add(Conv2D(filters=32, kernel_size=2, padding='same', activation='relu'))\n",
    "model.add(MaxPooling2D(pool_size=2))\n",
    "model.add(Conv2D(filters=64, kernel_size=2, padding='same', activation='relu'))\n",
    "model.add(GlobalAveragePooling2D())\n",
    "model.add(Dropout(0.25))\n",
    "model.add(Dense(256, activation='relu'))\n",
    "model.add(Dropout(0.25))\n",
    "model.add(Dense(133, activation='softmax'))\n",
    "\n",
    "model.summary()"
   ]
  },
  {
   "cell_type": "markdown",
   "metadata": {},
   "source": [
    "### Compile the Model"
   ]
  },
  {
   "cell_type": "code",
   "execution_count": 229,
   "metadata": {},
   "outputs": [],
   "source": [
    "model.compile(optimizer='rmsprop', loss='categorical_crossentropy', metrics=['accuracy'])"
   ]
  },
  {
   "cell_type": "markdown",
   "metadata": {},
   "source": [
    "### (IMPLEMENTATION) Train the Model\n",
    "\n",
    "Train your model in the code cell below.  Use model checkpointing to save the model that attains the best validation loss.\n",
    "\n",
    "You are welcome to [augment the training data](https://blog.keras.io/building-powerful-image-classification-models-using-very-little-data.html), but this is not a requirement. "
   ]
  },
  {
   "cell_type": "code",
   "execution_count": 233,
   "metadata": {},
   "outputs": [
    {
     "name": "stdout",
     "output_type": "stream",
     "text": [
      "Train on 6680 samples, validate on 835 samples\n",
      "Epoch 1/5\n",
      "6660/6680 [============================>.] - ETA: 0s - loss: 4.4124 - acc: 0.0517Epoch 00001: val_loss improved from inf to 4.45240, saving model to saved_models/weights.best.from_scratch.hdf5\n",
      "6680/6680 [==============================] - 22s 3ms/step - loss: 4.4135 - acc: 0.0516 - val_loss: 4.4524 - val_acc: 0.0443\n",
      "Epoch 2/5\n",
      "6660/6680 [============================>.] - ETA: 0s - loss: 4.3862 - acc: 0.0482Epoch 00002: val_loss did not improve\n",
      "6680/6680 [==============================] - 22s 3ms/step - loss: 4.3858 - acc: 0.0482 - val_loss: 4.4830 - val_acc: 0.0479\n",
      "Epoch 3/5\n",
      "6660/6680 [============================>.] - ETA: 0s - loss: 4.3813 - acc: 0.0459Epoch 00003: val_loss improved from 4.45240 to 4.44643, saving model to saved_models/weights.best.from_scratch.hdf5\n",
      "6680/6680 [==============================] - 22s 3ms/step - loss: 4.3811 - acc: 0.0463 - val_loss: 4.4464 - val_acc: 0.0371\n",
      "Epoch 4/5\n",
      "6660/6680 [============================>.] - ETA: 0s - loss: 4.3716 - acc: 0.0521Epoch 00004: val_loss did not improve\n",
      "6680/6680 [==============================] - 22s 3ms/step - loss: 4.3719 - acc: 0.0519 - val_loss: 4.4494 - val_acc: 0.0479\n",
      "Epoch 5/5\n",
      "6660/6680 [============================>.] - ETA: 0s - loss: 4.3586 - acc: 0.0479Epoch 00005: val_loss did not improve\n",
      "6680/6680 [==============================] - 22s 3ms/step - loss: 4.3587 - acc: 0.0478 - val_loss: 4.4731 - val_acc: 0.0359\n"
     ]
    }
   ],
   "source": [
    "from keras.callbacks import ModelCheckpoint  \n",
    "\n",
    "### TODO: specify the number of epochs that you would like to use to train the model.\n",
    "\n",
    "epochs = 5\n",
    "\n",
    "### Do NOT modify the code below this line.\n",
    "\n",
    "checkpointer = ModelCheckpoint(filepath='saved_models/weights.best.from_scratch.hdf5', \n",
    "                               verbose=1, save_best_only=True)\n",
    "\n",
    "second_model = model.fit(train_tensors, train_targets, \n",
    "          validation_data=(valid_tensors, valid_targets),\n",
    "          epochs=epochs, batch_size=20, callbacks=[checkpointer], verbose=1)"
   ]
  },
  {
   "cell_type": "markdown",
   "metadata": {},
   "source": [
    "### Load the Model with the Best Validation Loss"
   ]
  },
  {
   "cell_type": "code",
   "execution_count": 234,
   "metadata": {},
   "outputs": [],
   "source": [
    "second_model.model.load_weights('saved_models/weights.best.from_scratch.hdf5')"
   ]
  },
  {
   "cell_type": "markdown",
   "metadata": {},
   "source": [
    "### Test the Model\n",
    "\n",
    "Try out your model on the test dataset of dog images.  Ensure that your test accuracy is greater than 1%."
   ]
  },
  {
   "cell_type": "code",
   "execution_count": 235,
   "metadata": {},
   "outputs": [
    {
     "name": "stdout",
     "output_type": "stream",
     "text": [
      "Test accuracy: 5.0239%\n"
     ]
    }
   ],
   "source": [
    "# get index of predicted dog breed for each image in test set\n",
    "dog_breed_predictions = [np.argmax(model.predict(np.expand_dims(tensor, axis=0))) for tensor in test_tensors]\n",
    "\n",
    "# report test accuracy\n",
    "test_accuracy = 100*np.sum(np.array(dog_breed_predictions)==np.argmax(test_targets, axis=1))/len(dog_breed_predictions)\n",
    "print('Test accuracy: %.4f%%' % test_accuracy)"
   ]
  },
  {
   "cell_type": "markdown",
   "metadata": {},
   "source": [
    "10.7656% with two 0.25 drop outs and 50 epochs\n",
    "1.6746% on 0.5 drops 5 epoch\n",
    "10.2871% with one 0.5 drop out \n",
    "7.5359% with two 0.5 drop outs\n"
   ]
  },
  {
   "cell_type": "markdown",
   "metadata": {},
   "source": [
    "### Visualise the training epoch graphs"
   ]
  },
  {
   "cell_type": "code",
   "execution_count": 236,
   "metadata": {},
   "outputs": [
    {
     "name": "stdout",
     "output_type": "stream",
     "text": [
      "dict_keys(['val_loss', 'val_acc', 'loss', 'acc'])\n"
     ]
    },
    {
     "data": {
      "image/png": "[encoded data removed]",
      "text/plain": [
       "<matplotlib.figure.Figure at 0x7f7360efc828>"
      ]
     },
     "metadata": {
      "needs_background": "light"
     },
     "output_type": "display_data"
    },
    {
     "data": {
      "image/png": "[encoded data removed]",
      "text/plain": [
       "<matplotlib.figure.Figure at 0x7f73b0631390>"
      ]
     },
     "metadata": {
      "needs_background": "light"
     },
     "output_type": "display_data"
    }
   ],
   "source": [
    "import matplotlib.pyplot as plt\n",
    "# list all data in history\n",
    "print(second_model.history.keys())\n",
    "# summarize history for accuracy\n",
    "\n",
    "plt.plot(second_model.history['acc'])\n",
    "plt.plot(second_model.history['val_acc'])\n",
    "plt.title('model accuracy')\n",
    "plt.ylabel('accuracy')\n",
    "plt.xlabel('epoch')\n",
    "plt.legend(['train', 'test'], loc='upper left')\n",
    "plt.show()\n",
    "\n",
    "# summarize history for loss\n",
    "plt.plot(second_model.history['loss'])\n",
    "plt.plot(second_model.history['val_loss'])\n",
    "plt.title('model loss')\n",
    "plt.ylabel('loss')\n",
    "plt.xlabel('epoch')\n",
    "plt.legend(['train', 'test'], loc='upper left')\n",
    "plt.show()\n",
    "\n",
    "#REF: https://machinelearningmastery.com/display-deep-learning-model-training-history-in-keras/"
   ]
  },
  {
   "cell_type": "markdown",
   "metadata": {},
   "source": [
    "---\n",
    "<a id='step4'></a>\n",
    "## Step 4: Use a CNN to Classify Dog Breeds\n",
    "\n",
    "To reduce training time without sacrificing accuracy, we show you how to train a CNN using transfer learning.  In the following step, you will get a chance to use transfer learning to train your own CNN.\n",
    "\n",
    "### Obtain Bottleneck Features"
   ]
  },
  {
   "cell_type": "code",
   "execution_count": 238,
   "metadata": {},
   "outputs": [],
   "source": [
    "bottleneck_features = np.load('bottleneck_features/DogVGG16Data.npz')\n",
    "train_VGG16 = bottleneck_features['train']\n",
    "valid_VGG16 = bottleneck_features['valid']\n",
    "test_VGG16 = bottleneck_features['test']"
   ]
  },
  {
   "cell_type": "markdown",
   "metadata": {},
   "source": [
    "### Model Architecture\n",
    "\n",
    "The model uses the the pre-trained VGG-16 model as a fixed feature extractor, where the last convolutional output of VGG-16 is fed as input to our model.  We only add a global average pooling layer and a fully connected layer, where the latter contains one node for each dog category and is equipped with a softmax."
   ]
  },
  {
   "cell_type": "code",
   "execution_count": 239,
   "metadata": {},
   "outputs": [
    {
     "name": "stdout",
     "output_type": "stream",
     "text": [
      "_________________________________________________________________\n",
      "Layer (type)                 Output Shape              Param #   \n",
      "=================================================================\n",
      "global_average_pooling2d_2 ( (None, 512)               0         \n",
      "_________________________________________________________________\n",
      "dense_3 (Dense)              (None, 133)               68229     \n",
      "=================================================================\n",
      "Total params: 68,229\n",
      "Trainable params: 68,229\n",
      "Non-trainable params: 0\n",
      "_________________________________________________________________\n"
     ]
    }
   ],
   "source": [
    "VGG16_model = Sequential()\n",
    "VGG16_model.add(GlobalAveragePooling2D(input_shape=train_VGG16.shape[1:]))\n",
    "VGG16_model.add(Dense(133, activation='softmax'))\n",
    "\n",
    "VGG16_model.summary()"
   ]
  },
  {
   "cell_type": "markdown",
   "metadata": {},
   "source": [
    "### Compile the Model"
   ]
  },
  {
   "cell_type": "code",
   "execution_count": 240,
   "metadata": {},
   "outputs": [],
   "source": [
    "VGG16_model.compile(loss='categorical_crossentropy', optimizer='rmsprop', metrics=['accuracy'])"
   ]
  },
  {
   "cell_type": "markdown",
   "metadata": {},
   "source": [
    "### Train the Model"
   ]
  },
  {
   "cell_type": "code",
   "execution_count": 22,
   "metadata": {},
   "outputs": [
    {
     "name": "stdout",
     "output_type": "stream",
     "text": [
      "Train on 6680 samples, validate on 835 samples\n",
      "Epoch 1/20\n",
      "6560/6680 [============================>.] - ETA: 0s - loss: 12.2623 - acc: 0.1268Epoch 00001: val_loss improved from inf to 10.55023, saving model to saved_models/weights.best.VGG16.hdf5\n",
      "6680/6680 [==============================] - 2s 262us/step - loss: 12.2573 - acc: 0.1274 - val_loss: 10.5502 - val_acc: 0.2311\n",
      "Epoch 2/20\n",
      "6620/6680 [============================>.] - ETA: 0s - loss: 9.9666 - acc: 0.2792Epoch 00002: val_loss improved from 10.55023 to 9.76577, saving model to saved_models/weights.best.VGG16.hdf5\n",
      "6680/6680 [==============================] - 2s 243us/step - loss: 9.9674 - acc: 0.2790 - val_loss: 9.7658 - val_acc: 0.2838\n",
      "Epoch 3/20\n",
      "6460/6680 [============================>.] - ETA: 0s - loss: 9.2513 - acc: 0.3528Epoch 00003: val_loss improved from 9.76577 to 9.52951, saving model to saved_models/weights.best.VGG16.hdf5\n",
      "6680/6680 [==============================] - 2s 242us/step - loss: 9.2493 - acc: 0.3528 - val_loss: 9.5295 - val_acc: 0.3222\n",
      "Epoch 4/20\n",
      "6620/6680 [============================>.] - ETA: 0s - loss: 8.8935 - acc: 0.3914Epoch 00004: val_loss improved from 9.52951 to 9.24260, saving model to saved_models/weights.best.VGG16.hdf5\n",
      "6680/6680 [==============================] - 2s 242us/step - loss: 8.8873 - acc: 0.3919 - val_loss: 9.2426 - val_acc: 0.3533\n",
      "Epoch 5/20\n",
      "6660/6680 [============================>.] - ETA: 0s - loss: 8.6402 - acc: 0.4230Epoch 00005: val_loss improved from 9.24260 to 9.08480, saving model to saved_models/weights.best.VGG16.hdf5\n",
      "6680/6680 [==============================] - 2s 244us/step - loss: 8.6488 - acc: 0.4223 - val_loss: 9.0848 - val_acc: 0.3581\n",
      "Epoch 6/20\n",
      "6660/6680 [============================>.] - ETA: 0s - loss: 8.4600 - acc: 0.4432Epoch 00006: val_loss improved from 9.08480 to 8.97473, saving model to saved_models/weights.best.VGG16.hdf5\n",
      "6680/6680 [==============================] - 2s 243us/step - loss: 8.4613 - acc: 0.4433 - val_loss: 8.9747 - val_acc: 0.3665\n",
      "Epoch 7/20\n",
      "6620/6680 [============================>.] - ETA: 0s - loss: 8.3739 - acc: 0.4545Epoch 00007: val_loss improved from 8.97473 to 8.92793, saving model to saved_models/weights.best.VGG16.hdf5\n",
      "6680/6680 [==============================] - 2s 243us/step - loss: 8.3714 - acc: 0.4546 - val_loss: 8.9279 - val_acc: 0.3820\n",
      "Epoch 8/20\n",
      "6640/6680 [============================>.] - ETA: 0s - loss: 8.1670 - acc: 0.4682Epoch 00008: val_loss improved from 8.92793 to 8.69239, saving model to saved_models/weights.best.VGG16.hdf5\n",
      "6680/6680 [==============================] - 2s 245us/step - loss: 8.1665 - acc: 0.4684 - val_loss: 8.6924 - val_acc: 0.3892\n",
      "Epoch 9/20\n",
      "6620/6680 [============================>.] - ETA: 0s - loss: 7.9982 - acc: 0.4775Epoch 00009: val_loss improved from 8.69239 to 8.50002, saving model to saved_models/weights.best.VGG16.hdf5\n",
      "6680/6680 [==============================] - 2s 245us/step - loss: 8.0005 - acc: 0.4772 - val_loss: 8.5000 - val_acc: 0.4144\n",
      "Epoch 10/20\n",
      "6600/6680 [============================>.] - ETA: 0s - loss: 7.7850 - acc: 0.4958Epoch 00010: val_loss did not improve\n",
      "6680/6680 [==============================] - 2s 242us/step - loss: 7.8098 - acc: 0.4945 - val_loss: 8.5066 - val_acc: 0.4048\n",
      "Epoch 11/20\n",
      "6600/6680 [============================>.] - ETA: 0s - loss: 7.7242 - acc: 0.5020Epoch 00011: val_loss improved from 8.50002 to 8.36058, saving model to saved_models/weights.best.VGG16.hdf5\n",
      "6680/6680 [==============================] - 2s 247us/step - loss: 7.7238 - acc: 0.5021 - val_loss: 8.3606 - val_acc: 0.4275\n",
      "Epoch 12/20\n",
      "6660/6680 [============================>.] - ETA: 0s - loss: 7.6642 - acc: 0.5129Epoch 00012: val_loss did not improve\n",
      "6680/6680 [==============================] - 2s 241us/step - loss: 7.6630 - acc: 0.5130 - val_loss: 8.3650 - val_acc: 0.4311\n",
      "Epoch 13/20\n",
      "6660/6680 [============================>.] - ETA: 0s - loss: 7.6032 - acc: 0.5161Epoch 00013: val_loss improved from 8.36058 to 8.29028, saving model to saved_models/weights.best.VGG16.hdf5\n",
      "6680/6680 [==============================] - 2s 243us/step - loss: 7.6070 - acc: 0.5159 - val_loss: 8.2903 - val_acc: 0.4275\n",
      "Epoch 14/20\n",
      "6660/6680 [============================>.] - ETA: 0s - loss: 7.5095 - acc: 0.5234Epoch 00014: val_loss improved from 8.29028 to 8.22602, saving model to saved_models/weights.best.VGG16.hdf5\n",
      "6680/6680 [==============================] - 2s 243us/step - loss: 7.5136 - acc: 0.5232 - val_loss: 8.2260 - val_acc: 0.4371\n",
      "Epoch 15/20\n",
      "6440/6680 [===========================>..] - ETA: 0s - loss: 7.3852 - acc: 0.5286Epoch 00015: val_loss improved from 8.22602 to 8.13061, saving model to saved_models/weights.best.VGG16.hdf5\n",
      "6680/6680 [==============================] - 2s 243us/step - loss: 7.3729 - acc: 0.5290 - val_loss: 8.1306 - val_acc: 0.4335\n",
      "Epoch 16/20\n",
      "6640/6680 [============================>.] - ETA: 0s - loss: 7.1927 - acc: 0.5410Epoch 00016: val_loss improved from 8.13061 to 8.02894, saving model to saved_models/weights.best.VGG16.hdf5\n",
      "6680/6680 [==============================] - 2s 245us/step - loss: 7.2028 - acc: 0.5404 - val_loss: 8.0289 - val_acc: 0.4311\n",
      "Epoch 17/20\n",
      "6440/6680 [===========================>..] - ETA: 0s - loss: 7.1748 - acc: 0.5469Epoch 00017: val_loss improved from 8.02894 to 7.92491, saving model to saved_models/weights.best.VGG16.hdf5\n",
      "6680/6680 [==============================] - 2s 244us/step - loss: 7.1611 - acc: 0.5479 - val_loss: 7.9249 - val_acc: 0.4587\n",
      "Epoch 18/20\n",
      "6600/6680 [============================>.] - ETA: 0s - loss: 7.1522 - acc: 0.5500Epoch 00018: val_loss improved from 7.92491 to 7.87321, saving model to saved_models/weights.best.VGG16.hdf5\n",
      "6680/6680 [==============================] - 2s 245us/step - loss: 7.1418 - acc: 0.5504 - val_loss: 7.8732 - val_acc: 0.4455\n",
      "Epoch 19/20\n",
      "6480/6680 [============================>.] - ETA: 0s - loss: 7.0024 - acc: 0.5528Epoch 00019: val_loss improved from 7.87321 to 7.76089, saving model to saved_models/weights.best.VGG16.hdf5\n",
      "6680/6680 [==============================] - 2s 240us/step - loss: 7.0078 - acc: 0.5527 - val_loss: 7.7609 - val_acc: 0.4551\n",
      "Epoch 20/20\n",
      "6660/6680 [============================>.] - ETA: 0s - loss: 6.9316 - acc: 0.5640Epoch 00020: val_loss did not improve\n",
      "6680/6680 [==============================] - 2s 241us/step - loss: 6.9302 - acc: 0.5641 - val_loss: 7.7939 - val_acc: 0.4635\n"
     ]
    },
    {
     "data": {
      "text/plain": [
       "<keras.callbacks.History at 0x7f57006f46d8>"
      ]
     },
     "execution_count": 22,
     "metadata": {},
     "output_type": "execute_result"
    }
   ],
   "source": [
    "checkpointer = ModelCheckpoint(filepath='saved_models/weights.best.VGG16.hdf5', \n",
    "                               verbose=1, save_best_only=True)\n",
    "\n",
    "VGG16_model = VGG16_model.fit(train_VGG16, train_targets, \n",
    "          validation_data=(valid_VGG16, valid_targets),\n",
    "          epochs=20, batch_size=20, callbacks=[checkpointer], verbose=1)"
   ]
  },
  {
   "cell_type": "markdown",
   "metadata": {},
   "source": [
    "### Load the Model with the Best Validation Loss"
   ]
  },
  {
   "cell_type": "code",
   "execution_count": 241,
   "metadata": {},
   "outputs": [],
   "source": [
    "VGG16_model.load_weights('saved_models/weights.best.VGG16.hdf5')"
   ]
  },
  {
   "cell_type": "markdown",
   "metadata": {},
   "source": [
    "### Visualise Model "
   ]
  },
  {
   "cell_type": "code",
   "execution_count": 242,
   "metadata": {},
   "outputs": [
    {
     "ename": "NameError",
     "evalue": "name 'VGG19_model' is not defined",
     "output_type": "error",
     "traceback": [
      "\u001b[0;31m---------------------------------------------------------------------------\u001b[0m",
      "\u001b[0;31mNameError\u001b[0m                                 Traceback (most recent call last)",
      "\u001b[0;32m<ipython-input-242-2372c6f2e5a2>\u001b[0m in \u001b[0;36m<module>\u001b[0;34m()\u001b[0m\n\u001b[1;32m      1\u001b[0m \u001b[0;31m# list all data in history\u001b[0m\u001b[0;34m\u001b[0m\u001b[0;34m\u001b[0m\u001b[0m\n\u001b[0;32m----> 2\u001b[0;31m \u001b[0mprint\u001b[0m\u001b[0;34m(\u001b[0m\u001b[0mVGG19_model\u001b[0m\u001b[0;34m.\u001b[0m\u001b[0mhistory\u001b[0m\u001b[0;34m.\u001b[0m\u001b[0mkeys\u001b[0m\u001b[0;34m(\u001b[0m\u001b[0;34m)\u001b[0m\u001b[0;34m)\u001b[0m\u001b[0;34m\u001b[0m\u001b[0m\n\u001b[0m\u001b[1;32m      3\u001b[0m \u001b[0;31m# summarize history for accuracy\u001b[0m\u001b[0;34m\u001b[0m\u001b[0;34m\u001b[0m\u001b[0m\n\u001b[1;32m      4\u001b[0m \u001b[0;34m\u001b[0m\u001b[0m\n\u001b[1;32m      5\u001b[0m \u001b[0mplt\u001b[0m\u001b[0;34m.\u001b[0m\u001b[0mplot\u001b[0m\u001b[0;34m(\u001b[0m\u001b[0mVGG16_model\u001b[0m\u001b[0;34m.\u001b[0m\u001b[0mhistory\u001b[0m\u001b[0;34m[\u001b[0m\u001b[0;34m'acc'\u001b[0m\u001b[0;34m]\u001b[0m\u001b[0;34m)\u001b[0m\u001b[0;34m\u001b[0m\u001b[0m\n",
      "\u001b[0;31mNameError\u001b[0m: name 'VGG19_model' is not defined"
     ]
    }
   ],
   "source": [
    "# list all data in history\n",
    "print(VGG19_model.history.keys())\n",
    "# summarize history for accuracy\n",
    "\n",
    "plt.plot(VGG16_model.history['acc'])\n",
    "plt.plot(VGG16_model.history['val_acc'])\n",
    "plt.title('model accuracy')\n",
    "plt.ylabel('accuracy')\n",
    "plt.xlabel('epoch')\n",
    "plt.legend(['train', 'test'], loc='upper left')\n",
    "plt.show()\n",
    "\n",
    "# summarize history for loss\n",
    "plt.plot(VGG16_model.history['loss'])\n",
    "plt.plot(VGG16_model.history['val_loss'])\n",
    "plt.title('model loss')\n",
    "plt.ylabel('loss')\n",
    "plt.xlabel('epoch')\n",
    "plt.legend(['train', 'test'], loc='upper left')\n",
    "plt.show()\n"
   ]
  },
  {
   "cell_type": "markdown",
   "metadata": {},
   "source": [
    "### Test the Model\n",
    "\n",
    "Now, we can use the CNN to test how well it identifies breed within our test dataset of dog images.  We print the test accuracy below."
   ]
  },
  {
   "cell_type": "code",
   "execution_count": 24,
   "metadata": {},
   "outputs": [
    {
     "name": "stdout",
     "output_type": "stream",
     "text": [
      "Test accuracy: 42.5837%\n"
     ]
    }
   ],
   "source": [
    "# get index of predicted dog breed for each image in test set\n",
    "VGG16_predictions = [np.argmax(VGG16_model.predict(np.expand_dims(feature, axis=0))) for feature in test_VGG16]\n",
    "\n",
    "# report test accuracy\n",
    "test_accuracy = 100*np.sum(np.array(VGG16_predictions)==np.argmax(test_targets, axis=1))/len(VGG16_predictions)\n",
    "print('Test accuracy: %.4f%%' % test_accuracy)"
   ]
  },
  {
   "cell_type": "markdown",
   "metadata": {},
   "source": [
    "### Predict Dog Breed with the Model"
   ]
  },
  {
   "cell_type": "code",
   "execution_count": 25,
   "metadata": {},
   "outputs": [],
   "source": [
    "from extract_bottleneck_features import *\n",
    "\n",
    "def VGG16_predict_breed(img_path):\n",
    "    # extract bottleneck features\n",
    "    bottleneck_feature = extract_VGG16(path_to_tensor(img_path))\n",
    "    # obtain predicted vector\n",
    "    predicted_vector = VGG16_model.predict(bottleneck_feature)\n",
    "    # return dog breed that is predicted by the model\n",
    "    return dog_names[np.argmax(predicted_vector)]"
   ]
  },
  {
   "cell_type": "markdown",
   "metadata": {},
   "source": [
    "---\n",
    "<a id='step5'></a>\n",
    "## Step 5: Create a CNN to Classify Dog Breeds (using Transfer Learning)\n",
    "\n",
    "You will now use transfer learning to create a CNN that can identify dog breed from images.  Your CNN must attain at least 60% accuracy on the test set.\n",
    "\n",
    "In Step 4, we used transfer learning to create a CNN using VGG-16 bottleneck features.  In this section, you must use the bottleneck features from a different pre-trained model.  To make things easier for you, we have pre-computed the features for all of the networks that are currently available in Keras:\n",
    "- [VGG-19](https://s3-us-west-1.amazonaws.com/udacity-aind/dog-project/DogVGG19Data.npz) bottleneck features\n",
    "- [ResNet-50](https://s3-us-west-1.amazonaws.com/udacity-aind/dog-project/DogResnet50Data.npz) bottleneck features\n",
    "- [Inception](https://s3-us-west-1.amazonaws.com/udacity-aind/dog-project/DogInceptionV3Data.npz) bottleneck features\n",
    "- [Xception](https://s3-us-west-1.amazonaws.com/udacity-aind/dog-project/DogXceptionData.npz) bottleneck features\n",
    "\n",
    "The files are encoded as such:\n",
    "\n",
    "    Dog{network}Data.npz\n",
    "    \n",
    "where `{network}`, in the above filename, can be one of `VGG19`, `Resnet50`, `InceptionV3`, or `Xception`.  Pick one of the above architectures, download the corresponding bottleneck features, and store the downloaded file in the `bottleneck_features/` folder in the repository.\n",
    "\n",
    "### (IMPLEMENTATION) Obtain Bottleneck Features\n",
    "\n",
    "In the code block below, extract the bottleneck features corresponding to the train, test, and validation sets by running the following:\n",
    "\n",
    "    bottleneck_features = np.load('bottleneck_features/Dog{network}Data.npz')\n",
    "    train_{network} = bottleneck_features['train']\n",
    "    valid_{network} = bottleneck_features['valid']\n",
    "    test_{network} = bottleneck_features['test']"
   ]
  },
  {
   "cell_type": "code",
   "execution_count": 243,
   "metadata": {},
   "outputs": [],
   "source": [
    "### TODO: Obtain bottleneck features from another pre-trained CNN.\n",
    "bottleneck_features = np.load('bottleneck_features/DogVGG19Data.npz')\n",
    "train_VGG19 = bottleneck_features['train']\n",
    "valid_VGG19 = bottleneck_features['valid']\n",
    "test_VGG19 = bottleneck_features['test']"
   ]
  },
  {
   "cell_type": "markdown",
   "metadata": {},
   "source": [
    "### (IMPLEMENTATION) Model Architecture\n",
    "\n",
    "Create a CNN to classify dog breed.  At the end of your code cell block, summarize the layers of your model by executing the line:\n",
    "    \n",
    "        <your model's name>.summary()\n",
    "   \n",
    "__Question 5:__ Outline the steps you took to get to your final CNN architecture and your reasoning at each step.  Describe why you think the architecture is suitable for the current problem.\n",
    "\n",
    "__Answer:__ \n",
    "\n"
   ]
  },
  {
   "cell_type": "code",
   "execution_count": 16,
   "metadata": {},
   "outputs": [
    {
     "name": "stdout",
     "output_type": "stream",
     "text": [
      "_________________________________________________________________\n",
      "Layer (type)                 Output Shape              Param #   \n",
      "=================================================================\n",
      "global_average_pooling2d_2 ( (None, 512)               0         \n",
      "_________________________________________________________________\n",
      "dense_3 (Dense)              (None, 133)               68229     \n",
      "=================================================================\n",
      "Total params: 68,229\n",
      "Trainable params: 68,229\n",
      "Non-trainable params: 0\n",
      "_________________________________________________________________\n"
     ]
    }
   ],
   "source": [
    "### TODO: Define your architecture.\n",
    "VGG19_model = Sequential()\n",
    "VGG19_model.add(GlobalAveragePooling2D(input_shape=train_VGG19.shape[1:]))\n",
    "VGG19_model.add(Dense(133, activation='softmax'))\n",
    "\n",
    "VGG19_model.summary()\n"
   ]
  },
  {
   "cell_type": "markdown",
   "metadata": {},
   "source": [
    "### (IMPLEMENTATION) Compile the Model"
   ]
  },
  {
   "cell_type": "code",
   "execution_count": 17,
   "metadata": {},
   "outputs": [],
   "source": [
    "### TODO: Compile the model.\n",
    "VGG19_model.compile(loss='categorical_crossentropy', optimizer='rmsprop', metrics=['accuracy'])"
   ]
  },
  {
   "cell_type": "markdown",
   "metadata": {},
   "source": [
    "### (IMPLEMENTATION) Train the Model\n",
    "\n",
    "Train your model in the code cell below.  Use model checkpointing to save the model that attains the best validation loss.  \n",
    "\n",
    "You are welcome to [augment the training data](https://blog.keras.io/building-powerful-image-classification-models-using-very-little-data.html), but this is not a requirement. "
   ]
  },
  {
   "cell_type": "code",
   "execution_count": 18,
   "metadata": {},
   "outputs": [
    {
     "name": "stdout",
     "output_type": "stream",
     "text": [
      "Train on 6680 samples, validate on 835 samples\n",
      "Epoch 1/250\n",
      "6580/6680 [============================>.] - ETA: 0s - loss: 11.7352 - acc: 0.1309Epoch 00001: val_loss improved from inf to 9.76893, saving model to saved_models/weights.best.VGG19.hdf5\n",
      "6680/6680 [==============================] - 2s 297us/step - loss: 11.7098 - acc: 0.1328 - val_loss: 9.7689 - val_acc: 0.2563\n",
      "Epoch 2/250\n",
      "6660/6680 [============================>.] - ETA: 0s - loss: 9.1705 - acc: 0.3120Epoch 00002: val_loss improved from 9.76893 to 8.95386, saving model to saved_models/weights.best.VGG19.hdf5\n",
      "6680/6680 [==============================] - 2s 249us/step - loss: 9.1707 - acc: 0.3121 - val_loss: 8.9539 - val_acc: 0.3198\n",
      "Epoch 3/250\n",
      "6440/6680 [===========================>..] - ETA: 0s - loss: 8.4979 - acc: 0.3935Epoch 00003: val_loss improved from 8.95386 to 8.60510, saving model to saved_models/weights.best.VGG19.hdf5\n",
      "6680/6680 [==============================] - 2s 248us/step - loss: 8.5312 - acc: 0.3916 - val_loss: 8.6051 - val_acc: 0.3760\n",
      "Epoch 4/250\n",
      "6460/6680 [============================>.] - ETA: 0s - loss: 8.1924 - acc: 0.4297Epoch 00004: val_loss improved from 8.60510 to 8.56816, saving model to saved_models/weights.best.VGG19.hdf5\n",
      "6680/6680 [==============================] - 2s 247us/step - loss: 8.2019 - acc: 0.4298 - val_loss: 8.5682 - val_acc: 0.3832\n",
      "Epoch 5/250\n",
      "6540/6680 [============================>.] - ETA: 0s - loss: 8.0536 - acc: 0.4606Epoch 00005: val_loss improved from 8.56816 to 8.43075, saving model to saved_models/weights.best.VGG19.hdf5\n",
      "6680/6680 [==============================] - 2s 246us/step - loss: 8.0637 - acc: 0.4602 - val_loss: 8.4308 - val_acc: 0.3940\n",
      "Epoch 6/250\n",
      "6500/6680 [============================>.] - ETA: 0s - loss: 7.8719 - acc: 0.4709Epoch 00006: val_loss improved from 8.43075 to 8.26169, saving model to saved_models/weights.best.VGG19.hdf5\n",
      "6680/6680 [==============================] - 2s 246us/step - loss: 7.8664 - acc: 0.4714 - val_loss: 8.2617 - val_acc: 0.4120\n",
      "Epoch 7/250\n",
      "6560/6680 [============================>.] - ETA: 0s - loss: 7.7161 - acc: 0.4931Epoch 00007: val_loss did not improve\n",
      "6680/6680 [==============================] - 2s 247us/step - loss: 7.7312 - acc: 0.4921 - val_loss: 8.3027 - val_acc: 0.4156\n",
      "Epoch 8/250\n",
      "6640/6680 [============================>.] - ETA: 0s - loss: 7.6861 - acc: 0.5044Epoch 00008: val_loss improved from 8.26169 to 8.20475, saving model to saved_models/weights.best.VGG19.hdf5\n",
      "6680/6680 [==============================] - 2s 248us/step - loss: 7.6875 - acc: 0.5043 - val_loss: 8.2048 - val_acc: 0.4180\n",
      "Epoch 9/250\n",
      "6460/6680 [============================>.] - ETA: 0s - loss: 7.6543 - acc: 0.5093Epoch 00009: val_loss did not improve\n",
      "6680/6680 [==============================] - 2s 246us/step - loss: 7.6623 - acc: 0.5087 - val_loss: 8.2650 - val_acc: 0.4192\n",
      "Epoch 10/250\n",
      "6440/6680 [===========================>..] - ETA: 0s - loss: 7.6350 - acc: 0.5152Epoch 00010: val_loss did not improve\n",
      "6680/6680 [==============================] - 2s 246us/step - loss: 7.6401 - acc: 0.5145 - val_loss: 8.2402 - val_acc: 0.4204\n",
      "Epoch 11/250\n",
      "6600/6680 [============================>.] - ETA: 0s - loss: 7.6391 - acc: 0.5195Epoch 00011: val_loss did not improve\n",
      "6680/6680 [==============================] - 2s 250us/step - loss: 7.6275 - acc: 0.5204 - val_loss: 8.2953 - val_acc: 0.4168\n",
      "Epoch 12/250\n",
      "6500/6680 [============================>.] - ETA: 0s - loss: 7.6164 - acc: 0.5194Epoch 00012: val_loss improved from 8.20475 to 8.19135, saving model to saved_models/weights.best.VGG19.hdf5\n",
      "6680/6680 [==============================] - 2s 247us/step - loss: 7.6043 - acc: 0.5198 - val_loss: 8.1914 - val_acc: 0.4251\n",
      "Epoch 13/250\n",
      "6620/6680 [============================>.] - ETA: 0s - loss: 7.5057 - acc: 0.5257Epoch 00013: val_loss improved from 8.19135 to 8.10826, saving model to saved_models/weights.best.VGG19.hdf5\n",
      "6680/6680 [==============================] - 2s 248us/step - loss: 7.5245 - acc: 0.5244 - val_loss: 8.1083 - val_acc: 0.4347\n",
      "Epoch 14/250\n",
      "6500/6680 [============================>.] - ETA: 0s - loss: 7.4790 - acc: 0.5275Epoch 00014: val_loss improved from 8.10826 to 8.05573, saving model to saved_models/weights.best.VGG19.hdf5\n",
      "6680/6680 [==============================] - 2s 246us/step - loss: 7.4580 - acc: 0.5287 - val_loss: 8.0557 - val_acc: 0.4383\n",
      "Epoch 15/250\n",
      "6660/6680 [============================>.] - ETA: 0s - loss: 7.3646 - acc: 0.5372Epoch 00015: val_loss improved from 8.05573 to 8.04444, saving model to saved_models/weights.best.VGG19.hdf5\n",
      "6680/6680 [==============================] - 2s 248us/step - loss: 7.3690 - acc: 0.5370 - val_loss: 8.0444 - val_acc: 0.4383\n",
      "Epoch 16/250\n",
      "6660/6680 [============================>.] - ETA: 0s - loss: 7.3265 - acc: 0.5396Epoch 00016: val_loss improved from 8.04444 to 7.88978, saving model to saved_models/weights.best.VGG19.hdf5\n",
      "6680/6680 [==============================] - 2s 248us/step - loss: 7.3215 - acc: 0.5400 - val_loss: 7.8898 - val_acc: 0.4467\n",
      "Epoch 17/250\n",
      "6520/6680 [============================>.] - ETA: 0s - loss: 7.1765 - acc: 0.5495Epoch 00017: val_loss improved from 7.88978 to 7.86712, saving model to saved_models/weights.best.VGG19.hdf5\n",
      "6680/6680 [==============================] - 2s 247us/step - loss: 7.1933 - acc: 0.5484 - val_loss: 7.8671 - val_acc: 0.4515\n",
      "Epoch 18/250\n",
      "6660/6680 [============================>.] - ETA: 0s - loss: 7.1402 - acc: 0.5512Epoch 00018: val_loss improved from 7.86712 to 7.81330, saving model to saved_models/weights.best.VGG19.hdf5\n",
      "6680/6680 [==============================] - 2s 250us/step - loss: 7.1390 - acc: 0.5512 - val_loss: 7.8133 - val_acc: 0.4599\n",
      "Epoch 19/250\n",
      "6580/6680 [============================>.] - ETA: 0s - loss: 7.0527 - acc: 0.5553Epoch 00019: val_loss improved from 7.81330 to 7.73039, saving model to saved_models/weights.best.VGG19.hdf5\n",
      "6680/6680 [==============================] - 2s 246us/step - loss: 7.0594 - acc: 0.5549 - val_loss: 7.7304 - val_acc: 0.4515\n",
      "Epoch 20/250\n",
      "6480/6680 [============================>.] - ETA: 0s - loss: 6.9507 - acc: 0.5619Epoch 00020: val_loss improved from 7.73039 to 7.53097, saving model to saved_models/weights.best.VGG19.hdf5\n",
      "6680/6680 [==============================] - 2s 247us/step - loss: 6.9539 - acc: 0.5617 - val_loss: 7.5310 - val_acc: 0.4707\n",
      "Epoch 21/250\n",
      "6500/6680 [============================>.] - ETA: 0s - loss: 6.7122 - acc: 0.5726Epoch 00021: val_loss improved from 7.53097 to 7.52553, saving model to saved_models/weights.best.VGG19.hdf5\n",
      "6680/6680 [==============================] - 2s 247us/step - loss: 6.6922 - acc: 0.5735 - val_loss: 7.5255 - val_acc: 0.4503\n",
      "Epoch 22/250\n",
      "6460/6680 [============================>.] - ETA: 0s - loss: 6.5740 - acc: 0.5844Epoch 00022: val_loss improved from 7.52553 to 7.30484, saving model to saved_models/weights.best.VGG19.hdf5\n",
      "6680/6680 [==============================] - 2s 247us/step - loss: 6.5698 - acc: 0.5849 - val_loss: 7.3048 - val_acc: 0.4886\n",
      "Epoch 23/250\n",
      "6600/6680 [============================>.] - ETA: 0s - loss: 6.4888 - acc: 0.5917Epoch 00023: val_loss did not improve\n",
      "6680/6680 [==============================] - 2s 250us/step - loss: 6.5034 - acc: 0.5907 - val_loss: 7.3472 - val_acc: 0.4766\n",
      "Epoch 24/250\n",
      "6560/6680 [============================>.] - ETA: 0s - loss: 6.4239 - acc: 0.5968Epoch 00024: val_loss improved from 7.30484 to 7.26971, saving model to saved_models/weights.best.VGG19.hdf5\n",
      "6680/6680 [==============================] - 2s 246us/step - loss: 6.4258 - acc: 0.5964 - val_loss: 7.2697 - val_acc: 0.4719\n",
      "Epoch 25/250\n",
      "6520/6680 [============================>.] - ETA: 0s - loss: 6.3884 - acc: 0.6008Epoch 00025: val_loss improved from 7.26971 to 7.22834, saving model to saved_models/weights.best.VGG19.hdf5\n",
      "6680/6680 [==============================] - 2s 247us/step - loss: 6.4020 - acc: 0.6000 - val_loss: 7.2283 - val_acc: 0.4874\n",
      "Epoch 26/250\n",
      "6600/6680 [============================>.] - ETA: 0s - loss: 6.3833 - acc: 0.6014Epoch 00026: val_loss improved from 7.22834 to 7.20574, saving model to saved_models/weights.best.VGG19.hdf5\n",
      "6680/6680 [==============================] - 2s 245us/step - loss: 6.3817 - acc: 0.6012 - val_loss: 7.2057 - val_acc: 0.4838\n"
     ]
    },
    {
     "name": "stdout",
     "output_type": "stream",
     "text": [
      "Epoch 27/250\n",
      "6540/6680 [============================>.] - ETA: 0s - loss: 6.3427 - acc: 0.6029Epoch 00027: val_loss improved from 7.20574 to 7.17827, saving model to saved_models/weights.best.VGG19.hdf5\n",
      "6680/6680 [==============================] - 2s 245us/step - loss: 6.3449 - acc: 0.6028 - val_loss: 7.1783 - val_acc: 0.4922\n",
      "Epoch 28/250\n",
      "6580/6680 [============================>.] - ETA: 0s - loss: 6.3257 - acc: 0.6035Epoch 00028: val_loss improved from 7.17827 to 7.14803, saving model to saved_models/weights.best.VGG19.hdf5\n",
      "6680/6680 [==============================] - 2s 246us/step - loss: 6.3253 - acc: 0.6036 - val_loss: 7.1480 - val_acc: 0.4922\n",
      "Epoch 29/250\n",
      "6440/6680 [===========================>..] - ETA: 0s - loss: 6.3029 - acc: 0.6037Epoch 00029: val_loss did not improve\n",
      "6680/6680 [==============================] - 2s 242us/step - loss: 6.2943 - acc: 0.6043 - val_loss: 7.2483 - val_acc: 0.4934\n",
      "Epoch 30/250\n",
      "6620/6680 [============================>.] - ETA: 0s - loss: 6.2622 - acc: 0.6074Epoch 00030: val_loss improved from 7.14803 to 7.14278, saving model to saved_models/weights.best.VGG19.hdf5\n",
      "6680/6680 [==============================] - 2s 245us/step - loss: 6.2663 - acc: 0.6072 - val_loss: 7.1428 - val_acc: 0.4994\n",
      "Epoch 31/250\n",
      "6500/6680 [============================>.] - ETA: 0s - loss: 6.2881 - acc: 0.6069Epoch 00031: val_loss did not improve\n",
      "6680/6680 [==============================] - 2s 246us/step - loss: 6.2546 - acc: 0.6088 - val_loss: 7.1705 - val_acc: 0.4910\n",
      "Epoch 32/250\n",
      "6560/6680 [============================>.] - ETA: 0s - loss: 6.2172 - acc: 0.6120Epoch 00032: val_loss did not improve\n",
      "6680/6680 [==============================] - 2s 244us/step - loss: 6.2454 - acc: 0.6103 - val_loss: 7.1796 - val_acc: 0.5018\n",
      "Epoch 33/250\n",
      "6580/6680 [============================>.] - ETA: 0s - loss: 6.2342 - acc: 0.6122Epoch 00033: val_loss improved from 7.14278 to 7.09006, saving model to saved_models/weights.best.VGG19.hdf5\n",
      "6680/6680 [==============================] - 2s 244us/step - loss: 6.2400 - acc: 0.6117 - val_loss: 7.0901 - val_acc: 0.4982\n",
      "Epoch 34/250\n",
      "6580/6680 [============================>.] - ETA: 0s - loss: 6.1954 - acc: 0.6143Epoch 00034: val_loss improved from 7.09006 to 7.07409, saving model to saved_models/weights.best.VGG19.hdf5\n",
      "6680/6680 [==============================] - 2s 246us/step - loss: 6.2338 - acc: 0.6118 - val_loss: 7.0741 - val_acc: 0.5042\n",
      "Epoch 35/250\n",
      "6480/6680 [============================>.] - ETA: 0s - loss: 6.2392 - acc: 0.6123Epoch 00035: val_loss did not improve\n",
      "6680/6680 [==============================] - 2s 248us/step - loss: 6.2310 - acc: 0.6129 - val_loss: 7.1079 - val_acc: 0.5042\n",
      "Epoch 36/250\n",
      "6620/6680 [============================>.] - ETA: 0s - loss: 6.2265 - acc: 0.6128Epoch 00036: val_loss did not improve\n",
      "6680/6680 [==============================] - 2s 244us/step - loss: 6.2310 - acc: 0.6124 - val_loss: 7.2000 - val_acc: 0.4970\n",
      "Epoch 37/250\n",
      "6640/6680 [============================>.] - ETA: 0s - loss: 6.1827 - acc: 0.6122Epoch 00037: val_loss improved from 7.07409 to 7.05724, saving model to saved_models/weights.best.VGG19.hdf5\n",
      "6680/6680 [==============================] - 2s 248us/step - loss: 6.1828 - acc: 0.6121 - val_loss: 7.0572 - val_acc: 0.5078\n",
      "Epoch 38/250\n",
      "6580/6680 [============================>.] - ETA: 0s - loss: 6.1235 - acc: 0.6169Epoch 00038: val_loss did not improve\n",
      "6680/6680 [==============================] - 2s 244us/step - loss: 6.1284 - acc: 0.6166 - val_loss: 7.1607 - val_acc: 0.4982\n",
      "Epoch 39/250\n",
      "6560/6680 [============================>.] - ETA: 0s - loss: 6.1138 - acc: 0.6181Epoch 00039: val_loss did not improve\n",
      "6680/6680 [==============================] - 2s 244us/step - loss: 6.1155 - acc: 0.6178 - val_loss: 7.0641 - val_acc: 0.5006\n",
      "Epoch 40/250\n",
      "6600/6680 [============================>.] - ETA: 0s - loss: 6.0437 - acc: 0.6189Epoch 00040: val_loss improved from 7.05724 to 7.02275, saving model to saved_models/weights.best.VGG19.hdf5\n",
      "6680/6680 [==============================] - 2s 246us/step - loss: 6.0389 - acc: 0.6193 - val_loss: 7.0228 - val_acc: 0.4970\n",
      "Epoch 41/250\n",
      "6520/6680 [============================>.] - ETA: 0s - loss: 6.0220 - acc: 0.6238Epoch 00041: val_loss improved from 7.02275 to 7.00060, saving model to saved_models/weights.best.VGG19.hdf5\n",
      "6680/6680 [==============================] - 2s 245us/step - loss: 5.9968 - acc: 0.6253 - val_loss: 7.0006 - val_acc: 0.5042\n",
      "Epoch 42/250\n",
      "6640/6680 [============================>.] - ETA: 0s - loss: 5.9806 - acc: 0.6271Epoch 00042: val_loss did not improve\n",
      "6680/6680 [==============================] - 2s 244us/step - loss: 5.9858 - acc: 0.6268 - val_loss: 7.0033 - val_acc: 0.5066\n",
      "Epoch 43/250\n",
      "6480/6680 [============================>.] - ETA: 0s - loss: 5.9500 - acc: 0.6298Epoch 00043: val_loss did not improve\n",
      "6680/6680 [==============================] - 2s 245us/step - loss: 5.9794 - acc: 0.6280 - val_loss: 7.0271 - val_acc: 0.5006\n",
      "Epoch 44/250\n",
      "6620/6680 [============================>.] - ETA: 0s - loss: 5.9300 - acc: 0.6261Epoch 00044: val_loss improved from 7.00060 to 6.87607, saving model to saved_models/weights.best.VGG19.hdf5\n",
      "6680/6680 [==============================] - 2s 245us/step - loss: 5.9105 - acc: 0.6274 - val_loss: 6.8761 - val_acc: 0.5078\n",
      "Epoch 45/250\n",
      "6600/6680 [============================>.] - ETA: 0s - loss: 5.8297 - acc: 0.6336Epoch 00045: val_loss improved from 6.87607 to 6.80521, saving model to saved_models/weights.best.VGG19.hdf5\n",
      "6680/6680 [==============================] - 2s 245us/step - loss: 5.8275 - acc: 0.6338 - val_loss: 6.8052 - val_acc: 0.5174\n",
      "Epoch 46/250\n",
      "6600/6680 [============================>.] - ETA: 0s - loss: 5.7216 - acc: 0.6398Epoch 00046: val_loss improved from 6.80521 to 6.71740, saving model to saved_models/weights.best.VGG19.hdf5\n",
      "6680/6680 [==============================] - 2s 246us/step - loss: 5.7040 - acc: 0.6409 - val_loss: 6.7174 - val_acc: 0.5222\n",
      "Epoch 47/250\n",
      "6540/6680 [============================>.] - ETA: 0s - loss: 5.6836 - acc: 0.6454Epoch 00047: val_loss did not improve\n",
      "6680/6680 [==============================] - 2s 246us/step - loss: 5.6931 - acc: 0.6448 - val_loss: 6.7767 - val_acc: 0.5162\n",
      "Epoch 48/250\n",
      "6520/6680 [============================>.] - ETA: 0s - loss: 5.7206 - acc: 0.6443Epoch 00048: val_loss improved from 6.71740 to 6.70951, saving model to saved_models/weights.best.VGG19.hdf5\n",
      "6680/6680 [==============================] - 2s 247us/step - loss: 5.6825 - acc: 0.6467 - val_loss: 6.7095 - val_acc: 0.5234\n",
      "Epoch 49/250\n",
      "6580/6680 [============================>.] - ETA: 0s - loss: 5.6535 - acc: 0.6480Epoch 00049: val_loss did not improve\n",
      "6680/6680 [==============================] - 2s 243us/step - loss: 5.6798 - acc: 0.6464 - val_loss: 6.7102 - val_acc: 0.5222\n",
      "Epoch 50/250\n",
      "6560/6680 [============================>.] - ETA: 0s - loss: 5.6423 - acc: 0.6457Epoch 00050: val_loss did not improve\n",
      "6680/6680 [==============================] - 2s 243us/step - loss: 5.6374 - acc: 0.6461 - val_loss: 6.7127 - val_acc: 0.5234\n",
      "Epoch 51/250\n",
      "6540/6680 [============================>.] - ETA: 0s - loss: 5.5743 - acc: 0.6502Epoch 00051: val_loss did not improve\n",
      "6680/6680 [==============================] - 2s 243us/step - loss: 5.5805 - acc: 0.6499 - val_loss: 6.7140 - val_acc: 0.5269\n",
      "Epoch 52/250\n",
      "6460/6680 [============================>.] - ETA: 0s - loss: 5.5788 - acc: 0.6512Epoch 00052: val_loss improved from 6.70951 to 6.62194, saving model to saved_models/weights.best.VGG19.hdf5\n",
      "6680/6680 [==============================] - 2s 243us/step - loss: 5.5712 - acc: 0.6518 - val_loss: 6.6219 - val_acc: 0.5377\n",
      "Epoch 53/250\n",
      "6580/6680 [============================>.] - ETA: 0s - loss: 5.5552 - acc: 0.6540Epoch 00053: val_loss improved from 6.62194 to 6.56369, saving model to saved_models/weights.best.VGG19.hdf5\n",
      "6680/6680 [==============================] - 2s 246us/step - loss: 5.5613 - acc: 0.6536 - val_loss: 6.5637 - val_acc: 0.5401\n",
      "Epoch 54/250\n",
      "6540/6680 [============================>.] - ETA: 0s - loss: 5.4526 - acc: 0.6515Epoch 00054: val_loss improved from 6.56369 to 6.44632, saving model to saved_models/weights.best.VGG19.hdf5\n",
      "6680/6680 [==============================] - 2s 246us/step - loss: 5.4625 - acc: 0.6509 - val_loss: 6.4463 - val_acc: 0.5353\n"
     ]
    },
    {
     "name": "stdout",
     "output_type": "stream",
     "text": [
      "Epoch 55/250\n",
      "6540/6680 [============================>.] - ETA: 0s - loss: 5.2991 - acc: 0.6583Epoch 00055: val_loss improved from 6.44632 to 6.41395, saving model to saved_models/weights.best.VGG19.hdf5\n",
      "6680/6680 [==============================] - 2s 246us/step - loss: 5.2920 - acc: 0.6587 - val_loss: 6.4140 - val_acc: 0.5365\n",
      "Epoch 56/250\n",
      "6560/6680 [============================>.] - ETA: 0s - loss: 5.2309 - acc: 0.6684Epoch 00056: val_loss did not improve\n",
      "6680/6680 [==============================] - 2s 244us/step - loss: 5.2423 - acc: 0.6677 - val_loss: 6.4441 - val_acc: 0.5353\n",
      "Epoch 57/250\n",
      "6600/6680 [============================>.] - ETA: 0s - loss: 5.2326 - acc: 0.6705Epoch 00057: val_loss improved from 6.41395 to 6.37009, saving model to saved_models/weights.best.VGG19.hdf5\n",
      "6680/6680 [==============================] - 2s 245us/step - loss: 5.2185 - acc: 0.6713 - val_loss: 6.3701 - val_acc: 0.5485\n",
      "Epoch 58/250\n",
      "6540/6680 [============================>.] - ETA: 0s - loss: 5.2320 - acc: 0.6722Epoch 00058: val_loss did not improve\n",
      "6680/6680 [==============================] - 2s 244us/step - loss: 5.2049 - acc: 0.6738 - val_loss: 6.3922 - val_acc: 0.5473\n",
      "Epoch 59/250\n",
      "6660/6680 [============================>.] - ETA: 0s - loss: 5.1893 - acc: 0.6751Epoch 00059: val_loss did not improve\n",
      "6680/6680 [==============================] - 2s 250us/step - loss: 5.2003 - acc: 0.6744 - val_loss: 6.4150 - val_acc: 0.5425\n",
      "Epoch 60/250\n",
      "6580/6680 [============================>.] - ETA: 0s - loss: 5.1825 - acc: 0.6766Epoch 00060: val_loss did not improve\n",
      "6680/6680 [==============================] - 2s 244us/step - loss: 5.1966 - acc: 0.6757 - val_loss: 6.3911 - val_acc: 0.5461\n",
      "Epoch 61/250\n",
      "6660/6680 [============================>.] - ETA: 0s - loss: 5.1933 - acc: 0.6764Epoch 00061: val_loss improved from 6.37009 to 6.36394, saving model to saved_models/weights.best.VGG19.hdf5\n",
      "6680/6680 [==============================] - 2s 245us/step - loss: 5.1898 - acc: 0.6766 - val_loss: 6.3639 - val_acc: 0.5449\n",
      "Epoch 62/250\n",
      "6660/6680 [============================>.] - ETA: 0s - loss: 5.1855 - acc: 0.6773Epoch 00062: val_loss improved from 6.36394 to 6.33150, saving model to saved_models/weights.best.VGG19.hdf5\n",
      "6680/6680 [==============================] - 2s 248us/step - loss: 5.1892 - acc: 0.6771 - val_loss: 6.3315 - val_acc: 0.5581\n",
      "Epoch 63/250\n",
      "6440/6680 [===========================>..] - ETA: 0s - loss: 5.1829 - acc: 0.6778Epoch 00063: val_loss did not improve\n",
      "6680/6680 [==============================] - 2s 245us/step - loss: 5.1900 - acc: 0.6772 - val_loss: 6.3699 - val_acc: 0.5473\n",
      "Epoch 64/250\n",
      "6600/6680 [============================>.] - ETA: 0s - loss: 5.1960 - acc: 0.6773Epoch 00064: val_loss did not improve\n",
      "6680/6680 [==============================] - 2s 247us/step - loss: 5.1869 - acc: 0.6778 - val_loss: 6.3810 - val_acc: 0.5533\n",
      "Epoch 65/250\n",
      "6620/6680 [============================>.] - ETA: 0s - loss: 5.1918 - acc: 0.6776Epoch 00065: val_loss did not improve\n",
      "6680/6680 [==============================] - 2s 247us/step - loss: 5.1862 - acc: 0.6780 - val_loss: 6.3856 - val_acc: 0.5473\n",
      "Epoch 66/250\n",
      "6480/6680 [============================>.] - ETA: 0s - loss: 5.1540 - acc: 0.6796Epoch 00066: val_loss did not improve\n",
      "6680/6680 [==============================] - 2s 246us/step - loss: 5.1855 - acc: 0.6777 - val_loss: 6.3658 - val_acc: 0.5521\n",
      "Epoch 67/250\n",
      "6660/6680 [============================>.] - ETA: 0s - loss: 5.1764 - acc: 0.6772Epoch 00067: val_loss did not improve\n",
      "6680/6680 [==============================] - 2s 247us/step - loss: 5.1730 - acc: 0.6774 - val_loss: 6.4913 - val_acc: 0.5389\n",
      "Epoch 68/250\n",
      "6620/6680 [============================>.] - ETA: 0s - loss: 5.1049 - acc: 0.6799Epoch 00068: val_loss improved from 6.33150 to 6.31011, saving model to saved_models/weights.best.VGG19.hdf5\n",
      "6680/6680 [==============================] - 2s 249us/step - loss: 5.1097 - acc: 0.6796 - val_loss: 6.3101 - val_acc: 0.5509\n",
      "Epoch 69/250\n",
      "6660/6680 [============================>.] - ETA: 0s - loss: 5.0829 - acc: 0.6826Epoch 00069: val_loss did not improve\n",
      "6680/6680 [==============================] - 2s 247us/step - loss: 5.0919 - acc: 0.6820 - val_loss: 6.4515 - val_acc: 0.5365\n",
      "Epoch 70/250\n",
      "6480/6680 [============================>.] - ETA: 0s - loss: 5.0873 - acc: 0.6821Epoch 00070: val_loss did not improve\n",
      "6680/6680 [==============================] - 2s 245us/step - loss: 5.0871 - acc: 0.6820 - val_loss: 6.3696 - val_acc: 0.5485\n",
      "Epoch 71/250\n",
      "6640/6680 [============================>.] - ETA: 0s - loss: 5.0782 - acc: 0.6840Epoch 00071: val_loss did not improve\n",
      "6680/6680 [==============================] - 2s 249us/step - loss: 5.0791 - acc: 0.6840 - val_loss: 6.3992 - val_acc: 0.5389\n",
      "Epoch 72/250\n",
      "6460/6680 [============================>.] - ETA: 0s - loss: 5.0635 - acc: 0.6856Epoch 00072: val_loss did not improve\n",
      "6680/6680 [==============================] - 2s 246us/step - loss: 5.0777 - acc: 0.6847 - val_loss: 6.3270 - val_acc: 0.5521\n",
      "Epoch 73/250\n",
      "6560/6680 [============================>.] - ETA: 0s - loss: 5.0713 - acc: 0.6845Epoch 00073: val_loss improved from 6.31011 to 6.30043, saving model to saved_models/weights.best.VGG19.hdf5\n",
      "6680/6680 [==============================] - 2s 251us/step - loss: 5.0768 - acc: 0.6841 - val_loss: 6.3004 - val_acc: 0.5473\n",
      "Epoch 74/250\n",
      "6540/6680 [============================>.] - ETA: 0s - loss: 5.0735 - acc: 0.6849Epoch 00074: val_loss did not improve\n",
      "6680/6680 [==============================] - 2s 249us/step - loss: 5.0757 - acc: 0.6847 - val_loss: 6.4316 - val_acc: 0.5545\n",
      "Epoch 75/250\n",
      "6560/6680 [============================>.] - ETA: 0s - loss: 5.0605 - acc: 0.6858Epoch 00075: val_loss did not improve\n",
      "6680/6680 [==============================] - 2s 248us/step - loss: 5.0758 - acc: 0.6849 - val_loss: 6.3483 - val_acc: 0.5485\n",
      "Epoch 76/250\n",
      "6480/6680 [============================>.] - ETA: 0s - loss: 5.0930 - acc: 0.6840Epoch 00076: val_loss did not improve\n",
      "6680/6680 [==============================] - 2s 275us/step - loss: 5.0756 - acc: 0.6850 - val_loss: 6.3628 - val_acc: 0.5521\n",
      "Epoch 77/250\n",
      "6520/6680 [============================>.] - ETA: 0s - loss: 5.0236 - acc: 0.6882Epoch 00077: val_loss did not improve\n",
      "6680/6680 [==============================] - 2s 251us/step - loss: 5.0746 - acc: 0.6850 - val_loss: 6.3937 - val_acc: 0.5461\n",
      "Epoch 78/250\n",
      "6520/6680 [============================>.] - ETA: 0s - loss: 5.0658 - acc: 0.6856Epoch 00078: val_loss did not improve\n",
      "6680/6680 [==============================] - 2s 250us/step - loss: 5.0747 - acc: 0.6850 - val_loss: 6.3428 - val_acc: 0.5509\n",
      "Epoch 79/250\n",
      "6580/6680 [============================>.] - ETA: 0s - loss: 5.0720 - acc: 0.6850Epoch 00079: val_loss did not improve\n",
      "6680/6680 [==============================] - 2s 250us/step - loss: 5.0757 - acc: 0.6847 - val_loss: 6.3565 - val_acc: 0.5497\n",
      "Epoch 80/250\n",
      "6620/6680 [============================>.] - ETA: 0s - loss: 5.0897 - acc: 0.6840Epoch 00080: val_loss did not improve\n",
      "6680/6680 [==============================] - 2s 257us/step - loss: 5.0754 - acc: 0.6849 - val_loss: 6.3544 - val_acc: 0.5437\n",
      "Epoch 81/250\n",
      "6620/6680 [============================>.] - ETA: 0s - loss: 5.0678 - acc: 0.6853Epoch 00081: val_loss did not improve\n",
      "6680/6680 [==============================] - 2s 256us/step - loss: 5.0754 - acc: 0.6849 - val_loss: 6.3516 - val_acc: 0.5497\n",
      "Epoch 82/250\n",
      "6620/6680 [============================>.] - ETA: 0s - loss: 5.0845 - acc: 0.6843Epoch 00082: val_loss did not improve\n",
      "6680/6680 [==============================] - 2s 258us/step - loss: 5.0750 - acc: 0.6849 - val_loss: 6.3710 - val_acc: 0.5497\n",
      "Epoch 83/250\n",
      "6520/6680 [============================>.] - ETA: 0s - loss: 5.0858 - acc: 0.6819Epoch 00083: val_loss did not improve\n",
      "6680/6680 [==============================] - 2s 261us/step - loss: 5.0744 - acc: 0.6826 - val_loss: 6.4392 - val_acc: 0.5401\n",
      "Epoch 84/250\n",
      "6640/6680 [============================>.] - ETA: 0s - loss: 4.9530 - acc: 0.6887Epoch 00084: val_loss did not improve\n",
      "6680/6680 [==============================] - 2s 256us/step - loss: 4.9571 - acc: 0.6885 - val_loss: 6.3948 - val_acc: 0.5377\n",
      "Epoch 85/250\n",
      "6640/6680 [============================>.] - ETA: 0s - loss: 4.9367 - acc: 0.6913Epoch 00085: val_loss did not improve\n",
      "6680/6680 [==============================] - 2s 253us/step - loss: 4.9361 - acc: 0.6913 - val_loss: 6.3324 - val_acc: 0.5473\n",
      "Epoch 86/250\n",
      "6600/6680 [============================>.] - ETA: 0s - loss: 4.9205 - acc: 0.6935Epoch 00086: val_loss did not improve\n",
      "6680/6680 [==============================] - 2s 248us/step - loss: 4.9267 - acc: 0.6931 - val_loss: 6.3279 - val_acc: 0.5473\n",
      "Epoch 87/250\n",
      "6580/6680 [============================>.] - ETA: 0s - loss: 4.9299 - acc: 0.6930Epoch 00087: val_loss did not improve\n",
      "6680/6680 [==============================] - 2s 249us/step - loss: 4.9237 - acc: 0.6934 - val_loss: 6.3133 - val_acc: 0.5485\n",
      "Epoch 88/250\n",
      "6480/6680 [============================>.] - ETA: 0s - loss: 4.9416 - acc: 0.6929Epoch 00088: val_loss improved from 6.30043 to 6.25810, saving model to saved_models/weights.best.VGG19.hdf5\n",
      "6680/6680 [==============================] - 2s 252us/step - loss: 4.9239 - acc: 0.6940 - val_loss: 6.2581 - val_acc: 0.5569\n",
      "Epoch 89/250\n",
      "6480/6680 [============================>.] - ETA: 0s - loss: 4.9149 - acc: 0.6941Epoch 00089: val_loss did not improve\n",
      "6680/6680 [==============================] - 2s 246us/step - loss: 4.9198 - acc: 0.6939 - val_loss: 6.3271 - val_acc: 0.5533\n",
      "Epoch 90/250\n",
      "6580/6680 [============================>.] - ETA: 0s - loss: 4.9390 - acc: 0.6932Epoch 00090: val_loss did not improve\n",
      "6680/6680 [==============================] - 2s 249us/step - loss: 4.9205 - acc: 0.6943 - val_loss: 6.3384 - val_acc: 0.5521\n",
      "Epoch 91/250\n",
      "6640/6680 [============================>.] - ETA: 0s - loss: 4.9186 - acc: 0.6943Epoch 00091: val_loss did not improve\n",
      "6680/6680 [==============================] - 2s 247us/step - loss: 4.9205 - acc: 0.6942 - val_loss: 6.3195 - val_acc: 0.5545\n",
      "Epoch 92/250\n",
      "6600/6680 [============================>.] - ETA: 0s - loss: 4.8929 - acc: 0.6961Epoch 00092: val_loss did not improve\n",
      "6680/6680 [==============================] - 2s 249us/step - loss: 4.9188 - acc: 0.6945 - val_loss: 6.2728 - val_acc: 0.5497\n",
      "Epoch 93/250\n",
      "6540/6680 [============================>.] - ETA: 0s - loss: 4.9132 - acc: 0.6951Epoch 00093: val_loss did not improve\n",
      "6680/6680 [==============================] - 2s 249us/step - loss: 4.9188 - acc: 0.6948 - val_loss: 6.2656 - val_acc: 0.5569\n",
      "Epoch 94/250\n",
      "6540/6680 [============================>.] - ETA: 0s - loss: 4.9211 - acc: 0.6943Epoch 00094: val_loss did not improve\n",
      "6680/6680 [==============================] - 2s 248us/step - loss: 4.9193 - acc: 0.6945 - val_loss: 6.2763 - val_acc: 0.5545\n",
      "Epoch 95/250\n",
      "6520/6680 [============================>.] - ETA: 0s - loss: 4.9321 - acc: 0.6939Epoch 00095: val_loss did not improve\n",
      "6680/6680 [==============================] - 2s 252us/step - loss: 4.9181 - acc: 0.6946 - val_loss: 6.3181 - val_acc: 0.5569\n",
      "Epoch 96/250\n",
      "6560/6680 [============================>.] - ETA: 0s - loss: 4.9080 - acc: 0.6951Epoch 00096: val_loss did not improve\n",
      "6680/6680 [==============================] - 2s 248us/step - loss: 4.9187 - acc: 0.6945 - val_loss: 6.2739 - val_acc: 0.5581\n",
      "Epoch 97/250\n",
      "6520/6680 [============================>.] - ETA: 0s - loss: 4.9083 - acc: 0.6954Epoch 00097: val_loss did not improve\n",
      "6680/6680 [==============================] - 2s 248us/step - loss: 4.9186 - acc: 0.6948 - val_loss: 6.3171 - val_acc: 0.5569\n",
      "Epoch 98/250\n",
      "6440/6680 [===========================>..] - ETA: 0s - loss: 4.9065 - acc: 0.6953Epoch 00098: val_loss did not improve\n",
      "6680/6680 [==============================] - 2s 247us/step - loss: 4.9184 - acc: 0.6946 - val_loss: 6.3409 - val_acc: 0.5497\n",
      "Epoch 99/250\n",
      "6620/6680 [============================>.] - ETA: 0s - loss: 4.9170 - acc: 0.6947Epoch 00099: val_loss did not improve\n",
      "6680/6680 [==============================] - 2s 247us/step - loss: 4.9186 - acc: 0.6946 - val_loss: 6.3054 - val_acc: 0.5521\n",
      "Epoch 100/250\n",
      "6620/6680 [============================>.] - ETA: 0s - loss: 4.9121 - acc: 0.6952Epoch 00100: val_loss did not improve\n",
      "6680/6680 [==============================] - 2s 248us/step - loss: 4.9187 - acc: 0.6948 - val_loss: 6.2811 - val_acc: 0.5533\n",
      "Epoch 101/250\n",
      "6500/6680 [============================>.] - ETA: 0s - loss: 4.9011 - acc: 0.6958Epoch 00101: val_loss did not improve\n",
      "6680/6680 [==============================] - 2s 249us/step - loss: 4.9186 - acc: 0.6948 - val_loss: 6.3226 - val_acc: 0.5521\n",
      "Epoch 102/250\n",
      "6540/6680 [============================>.] - ETA: 0s - loss: 4.9081 - acc: 0.6954Epoch 00102: val_loss did not improve\n",
      "6680/6680 [==============================] - 2s 246us/step - loss: 4.9187 - acc: 0.6948 - val_loss: 6.3136 - val_acc: 0.5521\n",
      "Epoch 103/250\n",
      "6540/6680 [============================>.] - ETA: 0s - loss: 4.9057 - acc: 0.6956Epoch 00103: val_loss did not improve\n",
      "6680/6680 [==============================] - 2s 248us/step - loss: 4.9187 - acc: 0.6948 - val_loss: 6.3302 - val_acc: 0.5509\n",
      "Epoch 104/250\n",
      "6520/6680 [============================>.] - ETA: 0s - loss: 4.9133 - acc: 0.6951Epoch 00104: val_loss did not improve\n",
      "6680/6680 [==============================] - 2s 247us/step - loss: 4.9187 - acc: 0.6948 - val_loss: 6.3208 - val_acc: 0.5509\n",
      "Epoch 105/250\n",
      "6560/6680 [============================>.] - ETA: 0s - loss: 4.9347 - acc: 0.6936Epoch 00105: val_loss did not improve\n",
      "6680/6680 [==============================] - 2s 247us/step - loss: 4.9185 - acc: 0.6946 - val_loss: 6.3261 - val_acc: 0.5449\n",
      "Epoch 106/250\n",
      "6520/6680 [============================>.] - ETA: 0s - loss: 4.9249 - acc: 0.6942Epoch 00106: val_loss did not improve\n",
      "6680/6680 [==============================] - 2s 246us/step - loss: 4.9179 - acc: 0.6946 - val_loss: 6.3097 - val_acc: 0.5545\n",
      "Epoch 107/250\n",
      "6560/6680 [============================>.] - ETA: 0s - loss: 4.8816 - acc: 0.6938Epoch 00107: val_loss did not improve\n",
      "6680/6680 [==============================] - 2s 250us/step - loss: 4.8739 - acc: 0.6942 - val_loss: 6.3229 - val_acc: 0.5425\n",
      "Epoch 108/250\n",
      "6520/6680 [============================>.] - ETA: 0s - loss: 4.8259 - acc: 0.6988Epoch 00108: val_loss did not improve\n",
      "6680/6680 [==============================] - 2s 248us/step - loss: 4.8334 - acc: 0.6984 - val_loss: 6.2753 - val_acc: 0.5545\n",
      "Epoch 109/250\n",
      "6580/6680 [============================>.] - ETA: 0s - loss: 4.8093 - acc: 0.7003Epoch 00109: val_loss improved from 6.25810 to 6.23967, saving model to saved_models/weights.best.VGG19.hdf5\n",
      "6680/6680 [==============================] - 2s 249us/step - loss: 4.8219 - acc: 0.6994 - val_loss: 6.2397 - val_acc: 0.5509\n",
      "Epoch 110/250\n",
      "6640/6680 [============================>.] - ETA: 0s - loss: 4.8016 - acc: 0.7005Epoch 00110: val_loss did not improve\n",
      "6680/6680 [==============================] - 2s 247us/step - loss: 4.8138 - acc: 0.6997 - val_loss: 6.3067 - val_acc: 0.5485\n",
      "Epoch 111/250\n",
      "6440/6680 [===========================>..] - ETA: 0s - loss: 4.7873 - acc: 0.7023Epoch 00111: val_loss did not improve\n",
      "6680/6680 [==============================] - 2s 246us/step - loss: 4.8108 - acc: 0.7009 - val_loss: 6.2577 - val_acc: 0.5545\n",
      "Epoch 112/250\n",
      "6520/6680 [============================>.] - ETA: 0s - loss: 4.7938 - acc: 0.7018Epoch 00112: val_loss did not improve\n",
      "6680/6680 [==============================] - 2s 244us/step - loss: 4.8093 - acc: 0.7009 - val_loss: 6.2729 - val_acc: 0.5533\n",
      "Epoch 113/250\n",
      "6560/6680 [============================>.] - ETA: 0s - loss: 4.8144 - acc: 0.7006Epoch 00113: val_loss improved from 6.23967 to 6.22188, saving model to saved_models/weights.best.VGG19.hdf5\n",
      "6680/6680 [==============================] - 2s 246us/step - loss: 4.8075 - acc: 0.7010 - val_loss: 6.2219 - val_acc: 0.5509\n",
      "Epoch 114/250\n",
      "6560/6680 [============================>.] - ETA: 0s - loss: 4.7925 - acc: 0.7021Epoch 00114: val_loss did not improve\n",
      "6680/6680 [==============================] - 2s 244us/step - loss: 4.8053 - acc: 0.7013 - val_loss: 6.2832 - val_acc: 0.5533\n",
      "Epoch 115/250\n",
      "6540/6680 [============================>.] - ETA: 0s - loss: 4.8230 - acc: 0.7003Epoch 00115: val_loss improved from 6.22188 to 6.21084, saving model to saved_models/weights.best.VGG19.hdf5\n",
      "6680/6680 [==============================] - 2s 246us/step - loss: 4.8064 - acc: 0.7013 - val_loss: 6.2108 - val_acc: 0.5593\n"
     ]
    },
    {
     "name": "stdout",
     "output_type": "stream",
     "text": [
      "Epoch 116/250\n",
      "6600/6680 [============================>.] - ETA: 0s - loss: 4.8103 - acc: 0.7014Epoch 00116: val_loss did not improve\n",
      "6680/6680 [==============================] - 2s 245us/step - loss: 4.8058 - acc: 0.7016 - val_loss: 6.2450 - val_acc: 0.5509\n",
      "Epoch 117/250\n",
      "6480/6680 [============================>.] - ETA: 0s - loss: 4.8271 - acc: 0.7002Epoch 00117: val_loss improved from 6.21084 to 6.20458, saving model to saved_models/weights.best.VGG19.hdf5\n",
      "6680/6680 [==============================] - 2s 247us/step - loss: 4.8057 - acc: 0.7015 - val_loss: 6.2046 - val_acc: 0.5581\n",
      "Epoch 118/250\n",
      "6600/6680 [============================>.] - ETA: 0s - loss: 4.8003 - acc: 0.7021Epoch 00118: val_loss did not improve\n",
      "6680/6680 [==============================] - 2s 245us/step - loss: 4.8056 - acc: 0.7018 - val_loss: 6.2122 - val_acc: 0.5569\n",
      "Epoch 119/250\n",
      "6560/6680 [============================>.] - ETA: 0s - loss: 4.7922 - acc: 0.7026Epoch 00119: val_loss did not improve\n",
      "6680/6680 [==============================] - 2s 247us/step - loss: 4.8051 - acc: 0.7018 - val_loss: 6.2250 - val_acc: 0.5605\n",
      "Epoch 120/250\n",
      "6540/6680 [============================>.] - ETA: 0s - loss: 4.8040 - acc: 0.7017Epoch 00120: val_loss did not improve\n",
      "6680/6680 [==============================] - 2s 245us/step - loss: 4.8046 - acc: 0.7016 - val_loss: 6.2228 - val_acc: 0.5533\n",
      "Epoch 121/250\n",
      "6560/6680 [============================>.] - ETA: 0s - loss: 4.8046 - acc: 0.7017Epoch 00121: val_loss did not improve\n",
      "6680/6680 [==============================] - 2s 245us/step - loss: 4.8051 - acc: 0.7016 - val_loss: 6.2124 - val_acc: 0.5629\n",
      "Epoch 122/250\n",
      "6560/6680 [============================>.] - ETA: 0s - loss: 4.7975 - acc: 0.7023Epoch 00122: val_loss did not improve\n",
      "6680/6680 [==============================] - 2s 244us/step - loss: 4.8054 - acc: 0.7018 - val_loss: 6.2263 - val_acc: 0.5569\n",
      "Epoch 123/250\n",
      "6520/6680 [============================>.] - ETA: 0s - loss: 4.8138 - acc: 0.7011Epoch 00123: val_loss did not improve\n",
      "6680/6680 [==============================] - 2s 245us/step - loss: 4.8047 - acc: 0.7016 - val_loss: 6.2372 - val_acc: 0.5569\n",
      "Epoch 124/250\n",
      "6480/6680 [============================>.] - ETA: 0s - loss: 4.8063 - acc: 0.7017Epoch 00124: val_loss did not improve\n",
      "6680/6680 [==============================] - 2s 245us/step - loss: 4.8048 - acc: 0.7018 - val_loss: 6.2086 - val_acc: 0.5581\n",
      "Epoch 125/250\n",
      "6580/6680 [============================>.] - ETA: 0s - loss: 4.8121 - acc: 0.7011Epoch 00125: val_loss did not improve\n",
      "6680/6680 [==============================] - 2s 244us/step - loss: 4.8052 - acc: 0.7015 - val_loss: 6.2248 - val_acc: 0.5497\n",
      "Epoch 126/250\n",
      "6520/6680 [============================>.] - ETA: 0s - loss: 4.8143 - acc: 0.7011Epoch 00126: val_loss did not improve\n",
      "6680/6680 [==============================] - 2s 245us/step - loss: 4.8051 - acc: 0.7016 - val_loss: 6.2180 - val_acc: 0.5557\n",
      "Epoch 127/250\n",
      "6440/6680 [===========================>..] - ETA: 0s - loss: 4.7869 - acc: 0.7030Epoch 00127: val_loss did not improve\n",
      "6680/6680 [==============================] - 2s 246us/step - loss: 4.8056 - acc: 0.7018 - val_loss: 6.2468 - val_acc: 0.5605\n",
      "Epoch 128/250\n",
      "6520/6680 [============================>.] - ETA: 0s - loss: 4.8194 - acc: 0.7009Epoch 00128: val_loss did not improve\n",
      "6680/6680 [==============================] - 2s 245us/step - loss: 4.8053 - acc: 0.7018 - val_loss: 6.2281 - val_acc: 0.5569\n",
      "Epoch 129/250\n",
      "6480/6680 [============================>.] - ETA: 0s - loss: 4.8094 - acc: 0.7015Epoch 00129: val_loss did not improve\n",
      "6680/6680 [==============================] - 2s 245us/step - loss: 4.8054 - acc: 0.7018 - val_loss: 6.2295 - val_acc: 0.5557\n",
      "Epoch 130/250\n",
      "6500/6680 [============================>.] - ETA: 0s - loss: 4.8043 - acc: 0.7017Epoch 00130: val_loss improved from 6.20458 to 6.19501, saving model to saved_models/weights.best.VGG19.hdf5\n",
      "6680/6680 [==============================] - 2s 247us/step - loss: 4.8052 - acc: 0.7016 - val_loss: 6.1950 - val_acc: 0.5533\n",
      "Epoch 131/250\n",
      "6520/6680 [============================>.] - ETA: 0s - loss: 4.7846 - acc: 0.7029Epoch 00131: val_loss did not improve\n",
      "6680/6680 [==============================] - 2s 245us/step - loss: 4.8051 - acc: 0.7016 - val_loss: 6.2115 - val_acc: 0.5545\n",
      "Epoch 132/250\n",
      "6640/6680 [============================>.] - ETA: 0s - loss: 4.8122 - acc: 0.7012Epoch 00132: val_loss did not improve\n",
      "6680/6680 [==============================] - 2s 249us/step - loss: 4.8051 - acc: 0.7016 - val_loss: 6.2017 - val_acc: 0.5593\n",
      "Epoch 133/250\n",
      "6560/6680 [============================>.] - ETA: 0s - loss: 4.8071 - acc: 0.7015Epoch 00133: val_loss did not improve\n",
      "6680/6680 [==============================] - 2s 244us/step - loss: 4.8051 - acc: 0.7016 - val_loss: 6.2041 - val_acc: 0.5581\n",
      "Epoch 134/250\n",
      "6560/6680 [============================>.] - ETA: 0s - loss: 4.7877 - acc: 0.7029Epoch 00134: val_loss did not improve\n",
      "6680/6680 [==============================] - 2s 246us/step - loss: 4.8054 - acc: 0.7018 - val_loss: 6.2097 - val_acc: 0.5569\n",
      "Epoch 135/250\n",
      "6660/6680 [============================>.] - ETA: 0s - loss: 4.8052 - acc: 0.7018Epoch 00135: val_loss did not improve\n",
      "6680/6680 [==============================] - 2s 252us/step - loss: 4.8053 - acc: 0.7018 - val_loss: 6.2135 - val_acc: 0.5605\n",
      "Epoch 136/250\n",
      "6480/6680 [============================>.] - ETA: 0s - loss: 4.8017 - acc: 0.7019Epoch 00136: val_loss did not improve\n",
      "6680/6680 [==============================] - 2s 251us/step - loss: 4.8051 - acc: 0.7016 - val_loss: 6.2063 - val_acc: 0.5593\n",
      "Epoch 137/250\n",
      "6640/6680 [============================>.] - ETA: 0s - loss: 4.7977 - acc: 0.7021Epoch 00137: val_loss did not improve\n",
      "6680/6680 [==============================] - 2s 254us/step - loss: 4.8051 - acc: 0.7016 - val_loss: 6.2214 - val_acc: 0.5569\n",
      "Epoch 138/250\n",
      "6620/6680 [============================>.] - ETA: 0s - loss: 4.7951 - acc: 0.7023Epoch 00138: val_loss did not improve\n",
      "6680/6680 [==============================] - 2s 247us/step - loss: 4.8051 - acc: 0.7016 - val_loss: 6.2234 - val_acc: 0.5617\n",
      "Epoch 139/250\n",
      "6520/6680 [============================>.] - ETA: 0s - loss: 4.7970 - acc: 0.7021Epoch 00139: val_loss did not improve\n",
      "6680/6680 [==============================] - 2s 246us/step - loss: 4.8051 - acc: 0.7016 - val_loss: 6.2257 - val_acc: 0.5581\n",
      "Epoch 140/250\n",
      "6500/6680 [============================>.] - ETA: 0s - loss: 4.7969 - acc: 0.7022Epoch 00140: val_loss did not improve\n",
      "6680/6680 [==============================] - 2s 245us/step - loss: 4.8051 - acc: 0.7016 - val_loss: 6.2138 - val_acc: 0.5605\n",
      "Epoch 141/250\n",
      "6540/6680 [============================>.] - ETA: 0s - loss: 4.8070 - acc: 0.7015Epoch 00141: val_loss did not improve\n",
      "6680/6680 [==============================] - 2s 245us/step - loss: 4.8051 - acc: 0.7016 - val_loss: 6.2054 - val_acc: 0.5617\n",
      "Epoch 142/250\n",
      "6460/6680 [============================>.] - ETA: 0s - loss: 4.8043 - acc: 0.7019Epoch 00142: val_loss did not improve\n",
      "6680/6680 [==============================] - 2s 246us/step - loss: 4.8053 - acc: 0.7018 - val_loss: 6.2133 - val_acc: 0.5617\n",
      "Epoch 143/250\n",
      "6620/6680 [============================>.] - ETA: 0s - loss: 4.8096 - acc: 0.7014Epoch 00143: val_loss did not improve\n",
      "6680/6680 [==============================] - 2s 244us/step - loss: 4.8050 - acc: 0.7016 - val_loss: 6.2087 - val_acc: 0.5605\n",
      "Epoch 144/250\n",
      "6660/6680 [============================>.] - ETA: 0s - loss: 4.8147 - acc: 0.7011Epoch 00144: val_loss did not improve\n",
      "6680/6680 [==============================] - 2s 249us/step - loss: 4.8051 - acc: 0.7016 - val_loss: 6.2235 - val_acc: 0.5617\n",
      "Epoch 145/250\n",
      "6640/6680 [============================>.] - ETA: 0s - loss: 4.7974 - acc: 0.7023Epoch 00145: val_loss did not improve\n",
      "6680/6680 [==============================] - 2s 246us/step - loss: 4.8049 - acc: 0.7018 - val_loss: 6.2216 - val_acc: 0.5593\n",
      "Epoch 146/250\n",
      "6500/6680 [============================>.] - ETA: 0s - loss: 4.7896 - acc: 0.7028Epoch 00146: val_loss did not improve\n",
      "6680/6680 [==============================] - 2s 245us/step - loss: 4.8053 - acc: 0.7018 - val_loss: 6.2208 - val_acc: 0.5593\n",
      "Epoch 147/250\n",
      "6520/6680 [============================>.] - ETA: 0s - loss: 4.7918 - acc: 0.7026Epoch 00147: val_loss did not improve\n",
      "6680/6680 [==============================] - 2s 245us/step - loss: 4.8049 - acc: 0.7018 - val_loss: 6.2094 - val_acc: 0.5617\n",
      "Epoch 148/250\n",
      "6640/6680 [============================>.] - ETA: 0s - loss: 4.8025 - acc: 0.7018Epoch 00148: val_loss did not improve\n",
      "6680/6680 [==============================] - 2s 246us/step - loss: 4.8051 - acc: 0.7016 - val_loss: 6.2160 - val_acc: 0.5569\n",
      "Epoch 149/250\n",
      "6540/6680 [============================>.] - ETA: 0s - loss: 4.7922 - acc: 0.7024Epoch 00149: val_loss did not improve\n",
      "6680/6680 [==============================] - 2s 245us/step - loss: 4.8052 - acc: 0.7016 - val_loss: 6.2228 - val_acc: 0.5593\n",
      "Epoch 150/250\n",
      "6500/6680 [============================>.] - ETA: 0s - loss: 4.8068 - acc: 0.7015Epoch 00150: val_loss did not improve\n",
      "6680/6680 [==============================] - 2s 246us/step - loss: 4.8052 - acc: 0.7016 - val_loss: 6.2133 - val_acc: 0.5605\n",
      "Epoch 151/250\n",
      "6660/6680 [============================>.] - ETA: 0s - loss: 4.8051 - acc: 0.7017Epoch 00151: val_loss did not improve\n",
      "6680/6680 [==============================] - 2s 244us/step - loss: 4.8052 - acc: 0.7016 - val_loss: 6.2139 - val_acc: 0.5617\n",
      "Epoch 152/250\n",
      "6540/6680 [============================>.] - ETA: 0s - loss: 4.7996 - acc: 0.7020Epoch 00152: val_loss did not improve\n",
      "6680/6680 [==============================] - 2s 245us/step - loss: 4.8051 - acc: 0.7016 - val_loss: 6.2134 - val_acc: 0.5617\n",
      "Epoch 153/250\n",
      "6560/6680 [============================>.] - ETA: 0s - loss: 4.8144 - acc: 0.7011Epoch 00153: val_loss did not improve\n",
      "6680/6680 [==============================] - 2s 244us/step - loss: 4.8051 - acc: 0.7016 - val_loss: 6.2131 - val_acc: 0.5641\n",
      "Epoch 154/250\n",
      "6560/6680 [============================>.] - ETA: 0s - loss: 4.8120 - acc: 0.7012Epoch 00154: val_loss did not improve\n",
      "6680/6680 [==============================] - 2s 247us/step - loss: 4.8051 - acc: 0.7016 - val_loss: 6.2105 - val_acc: 0.5629\n",
      "Epoch 155/250\n",
      "6520/6680 [============================>.] - ETA: 0s - loss: 4.7772 - acc: 0.7034Epoch 00155: val_loss did not improve\n",
      "6680/6680 [==============================] - 2s 244us/step - loss: 4.8052 - acc: 0.7016 - val_loss: 6.2112 - val_acc: 0.5629\n",
      "Epoch 156/250\n",
      "6580/6680 [============================>.] - ETA: 0s - loss: 4.8047 - acc: 0.7017Epoch 00156: val_loss did not improve\n",
      "6680/6680 [==============================] - 2s 250us/step - loss: 4.8052 - acc: 0.7016 - val_loss: 6.2156 - val_acc: 0.5617\n",
      "Epoch 157/250\n",
      "6480/6680 [============================>.] - ETA: 0s - loss: 4.8092 - acc: 0.7014Epoch 00157: val_loss did not improve\n",
      "6680/6680 [==============================] - 2s 246us/step - loss: 4.8052 - acc: 0.7016 - val_loss: 6.2158 - val_acc: 0.5617\n",
      "Epoch 158/250\n",
      "6540/6680 [============================>.] - ETA: 0s - loss: 4.7996 - acc: 0.7020Epoch 00158: val_loss did not improve\n",
      "6680/6680 [==============================] - 2s 245us/step - loss: 4.8052 - acc: 0.7016 - val_loss: 6.2122 - val_acc: 0.5617\n",
      "Epoch 159/250\n",
      "6640/6680 [============================>.] - ETA: 0s - loss: 4.8051 - acc: 0.7018Epoch 00159: val_loss did not improve\n",
      "6680/6680 [==============================] - 2s 246us/step - loss: 4.8053 - acc: 0.7018 - val_loss: 6.2126 - val_acc: 0.5605\n",
      "Epoch 160/250\n",
      "6460/6680 [============================>.] - ETA: 0s - loss: 4.7945 - acc: 0.7025Epoch 00160: val_loss did not improve\n",
      "6680/6680 [==============================] - 2s 246us/step - loss: 4.8055 - acc: 0.7018 - val_loss: 6.2089 - val_acc: 0.5629\n",
      "Epoch 161/250\n",
      "6580/6680 [============================>.] - ETA: 0s - loss: 4.8167 - acc: 0.7011Epoch 00161: val_loss did not improve\n",
      "6680/6680 [==============================] - 2s 248us/step - loss: 4.8049 - acc: 0.7018 - val_loss: 6.2391 - val_acc: 0.5593\n",
      "Epoch 162/250\n",
      "6660/6680 [============================>.] - ETA: 0s - loss: 4.8051 - acc: 0.7017Epoch 00162: val_loss did not improve\n",
      "6680/6680 [==============================] - 2s 247us/step - loss: 4.8052 - acc: 0.7016 - val_loss: 6.2312 - val_acc: 0.5605\n",
      "Epoch 163/250\n",
      "6440/6680 [===========================>..] - ETA: 0s - loss: 4.8090 - acc: 0.7014Epoch 00163: val_loss did not improve\n",
      "6680/6680 [==============================] - 2s 246us/step - loss: 4.8051 - acc: 0.7016 - val_loss: 6.2340 - val_acc: 0.5593\n",
      "Epoch 164/250\n",
      "6460/6680 [============================>.] - ETA: 0s - loss: 4.7845 - acc: 0.7031Epoch 00164: val_loss did not improve\n",
      "6680/6680 [==============================] - 2s 247us/step - loss: 4.8055 - acc: 0.7018 - val_loss: 6.2283 - val_acc: 0.5617\n",
      "Epoch 165/250\n",
      "6500/6680 [============================>.] - ETA: 0s - loss: 4.8086 - acc: 0.7015Epoch 00165: val_loss did not improve\n",
      "6680/6680 [==============================] - 2s 246us/step - loss: 4.8051 - acc: 0.7016 - val_loss: 6.2302 - val_acc: 0.5617\n",
      "Epoch 166/250\n",
      "6520/6680 [============================>.] - ETA: 0s - loss: 4.8093 - acc: 0.7014Epoch 00166: val_loss did not improve\n",
      "6680/6680 [==============================] - 2s 245us/step - loss: 4.8051 - acc: 0.7016 - val_loss: 6.2265 - val_acc: 0.5617\n",
      "Epoch 167/250\n",
      "6640/6680 [============================>.] - ETA: 0s - loss: 4.8098 - acc: 0.7014Epoch 00167: val_loss did not improve\n",
      "6680/6680 [==============================] - 2s 246us/step - loss: 4.8051 - acc: 0.7016 - val_loss: 6.2198 - val_acc: 0.5605\n",
      "Epoch 168/250\n",
      "6660/6680 [============================>.] - ETA: 0s - loss: 4.7978 - acc: 0.7021Epoch 00168: val_loss did not improve\n",
      "6680/6680 [==============================] - 2s 248us/step - loss: 4.8051 - acc: 0.7016 - val_loss: 6.2230 - val_acc: 0.5605\n",
      "Epoch 169/250\n",
      "6440/6680 [===========================>..] - ETA: 0s - loss: 4.8193 - acc: 0.7009Epoch 00169: val_loss did not improve\n",
      "6680/6680 [==============================] - 2s 247us/step - loss: 4.8054 - acc: 0.7018 - val_loss: 6.2205 - val_acc: 0.5593\n",
      "Epoch 170/250\n",
      "6500/6680 [============================>.] - ETA: 0s - loss: 4.8181 - acc: 0.7011Epoch 00170: val_loss did not improve\n",
      "6680/6680 [==============================] - 2s 245us/step - loss: 4.8054 - acc: 0.7018 - val_loss: 6.2182 - val_acc: 0.5605\n",
      "Epoch 171/250\n",
      "6520/6680 [============================>.] - ETA: 0s - loss: 4.8217 - acc: 0.7006Epoch 00171: val_loss did not improve\n",
      "6680/6680 [==============================] - 2s 245us/step - loss: 4.8052 - acc: 0.7016 - val_loss: 6.2232 - val_acc: 0.5593\n",
      "Epoch 172/250\n",
      "6440/6680 [===========================>..] - ETA: 0s - loss: 4.7994 - acc: 0.7022Epoch 00172: val_loss did not improve\n",
      "6680/6680 [==============================] - 2s 246us/step - loss: 4.8055 - acc: 0.7018 - val_loss: 6.2233 - val_acc: 0.5605\n",
      "Epoch 173/250\n",
      "6520/6680 [============================>.] - ETA: 0s - loss: 4.8168 - acc: 0.7009Epoch 00173: val_loss did not improve\n",
      "6680/6680 [==============================] - 2s 245us/step - loss: 4.8051 - acc: 0.7016 - val_loss: 6.2219 - val_acc: 0.5593\n",
      "Epoch 174/250\n",
      "6620/6680 [============================>.] - ETA: 0s - loss: 4.8052 - acc: 0.7018Epoch 00174: val_loss did not improve\n",
      "6680/6680 [==============================] - 2s 247us/step - loss: 4.8055 - acc: 0.7018 - val_loss: 6.2345 - val_acc: 0.5557\n",
      "Epoch 175/250\n",
      "6560/6680 [============================>.] - ETA: 0s - loss: 4.7951 - acc: 0.7024Epoch 00175: val_loss did not improve\n",
      "6680/6680 [==============================] - 2s 248us/step - loss: 4.8055 - acc: 0.7018 - val_loss: 6.2315 - val_acc: 0.5569\n",
      "Epoch 176/250\n",
      "6440/6680 [===========================>..] - ETA: 0s - loss: 4.8165 - acc: 0.7009Epoch 00176: val_loss did not improve\n",
      "6680/6680 [==============================] - 2s 247us/step - loss: 4.8051 - acc: 0.7016 - val_loss: 6.2282 - val_acc: 0.5593\n",
      "Epoch 177/250\n",
      "6600/6680 [============================>.] - ETA: 0s - loss: 4.7777 - acc: 0.7035Epoch 00177: val_loss did not improve\n",
      "6680/6680 [==============================] - 2s 248us/step - loss: 4.8049 - acc: 0.7018 - val_loss: 6.2308 - val_acc: 0.5581\n",
      "Epoch 178/250\n",
      "6460/6680 [============================>.] - ETA: 0s - loss: 4.7919 - acc: 0.7026Epoch 00178: val_loss did not improve\n",
      "6680/6680 [==============================] - 2s 245us/step - loss: 4.8054 - acc: 0.7018 - val_loss: 6.2311 - val_acc: 0.5581\n"
     ]
    },
    {
     "name": "stdout",
     "output_type": "stream",
     "text": [
      "Epoch 179/250\n",
      "6520/6680 [============================>.] - ETA: 0s - loss: 4.8118 - acc: 0.7012Epoch 00179: val_loss did not improve\n",
      "6680/6680 [==============================] - 2s 245us/step - loss: 4.8051 - acc: 0.7016 - val_loss: 6.2455 - val_acc: 0.5569\n",
      "Epoch 180/250\n",
      "6660/6680 [============================>.] - ETA: 0s - loss: 4.8075 - acc: 0.7015Epoch 00180: val_loss did not improve\n",
      "6680/6680 [==============================] - 2s 248us/step - loss: 4.8051 - acc: 0.7016 - val_loss: 6.2396 - val_acc: 0.5593\n",
      "Epoch 181/250\n",
      "6480/6680 [============================>.] - ETA: 0s - loss: 4.7768 - acc: 0.7034Epoch 00181: val_loss did not improve\n",
      "6680/6680 [==============================] - 2s 246us/step - loss: 4.8051 - acc: 0.7016 - val_loss: 6.2408 - val_acc: 0.5569\n",
      "Epoch 182/250\n",
      "6500/6680 [============================>.] - ETA: 0s - loss: 4.7947 - acc: 0.7025Epoch 00182: val_loss did not improve\n",
      "6680/6680 [==============================] - 2s 246us/step - loss: 4.8054 - acc: 0.7018 - val_loss: 6.2316 - val_acc: 0.5617\n",
      "Epoch 183/250\n",
      "6660/6680 [============================>.] - ETA: 0s - loss: 4.8026 - acc: 0.7018Epoch 00183: val_loss did not improve\n",
      "6680/6680 [==============================] - 2s 247us/step - loss: 4.8051 - acc: 0.7016 - val_loss: 6.2331 - val_acc: 0.5605\n",
      "Epoch 184/250\n",
      "6500/6680 [============================>.] - ETA: 0s - loss: 4.8043 - acc: 0.7017Epoch 00184: val_loss did not improve\n",
      "6680/6680 [==============================] - 2s 245us/step - loss: 4.8052 - acc: 0.7016 - val_loss: 6.2332 - val_acc: 0.5605\n",
      "Epoch 185/250\n",
      "6480/6680 [============================>.] - ETA: 0s - loss: 4.8093 - acc: 0.7015Epoch 00185: val_loss did not improve\n",
      "6680/6680 [==============================] - 2s 246us/step - loss: 4.8052 - acc: 0.7018 - val_loss: 6.2276 - val_acc: 0.5629\n",
      "Epoch 186/250\n",
      "6640/6680 [============================>.] - ETA: 0s - loss: 4.8050 - acc: 0.7017Epoch 00186: val_loss did not improve\n",
      "6680/6680 [==============================] - 2s 247us/step - loss: 4.8052 - acc: 0.7016 - val_loss: 6.2272 - val_acc: 0.5557\n",
      "Epoch 187/250\n",
      "6640/6680 [============================>.] - ETA: 0s - loss: 4.8049 - acc: 0.7017Epoch 00187: val_loss did not improve\n",
      "6680/6680 [==============================] - 2s 247us/step - loss: 4.8051 - acc: 0.7016 - val_loss: 6.2429 - val_acc: 0.5557\n",
      "Epoch 188/250\n",
      "6600/6680 [============================>.] - ETA: 0s - loss: 4.8146 - acc: 0.7011Epoch 00188: val_loss did not improve\n",
      "6680/6680 [==============================] - 2s 244us/step - loss: 4.8052 - acc: 0.7016 - val_loss: 6.2284 - val_acc: 0.5581\n",
      "Epoch 189/250\n",
      "6520/6680 [============================>.] - ETA: 0s - loss: 4.7873 - acc: 0.7029Epoch 00189: val_loss did not improve\n",
      "6680/6680 [==============================] - 2s 246us/step - loss: 4.8053 - acc: 0.7018 - val_loss: 6.2299 - val_acc: 0.5557\n",
      "Epoch 190/250\n",
      "6640/6680 [============================>.] - ETA: 0s - loss: 4.8025 - acc: 0.7020Epoch 00190: val_loss did not improve\n",
      "6680/6680 [==============================] - 2s 247us/step - loss: 4.8051 - acc: 0.7018 - val_loss: 6.2301 - val_acc: 0.5569\n",
      "Epoch 191/250\n",
      "6660/6680 [============================>.] - ETA: 0s - loss: 4.8099 - acc: 0.7014Epoch 00191: val_loss did not improve\n",
      "6680/6680 [==============================] - 2s 246us/step - loss: 4.8052 - acc: 0.7016 - val_loss: 6.2219 - val_acc: 0.5605\n",
      "Epoch 192/250\n",
      "6560/6680 [============================>.] - ETA: 0s - loss: 4.8096 - acc: 0.7015Epoch 00192: val_loss did not improve\n",
      "6680/6680 [==============================] - 2s 251us/step - loss: 4.8053 - acc: 0.7018 - val_loss: 6.2313 - val_acc: 0.5581\n",
      "Epoch 193/250\n",
      "6460/6680 [============================>.] - ETA: 0s - loss: 4.8040 - acc: 0.7017Epoch 00193: val_loss did not improve\n",
      "6680/6680 [==============================] - 2s 247us/step - loss: 4.8051 - acc: 0.7016 - val_loss: 6.2290 - val_acc: 0.5581\n",
      "Epoch 194/250\n",
      "6600/6680 [============================>.] - ETA: 0s - loss: 4.7977 - acc: 0.7023Epoch 00194: val_loss did not improve\n",
      "6680/6680 [==============================] - 2s 247us/step - loss: 4.8054 - acc: 0.7018 - val_loss: 6.2260 - val_acc: 0.5605\n",
      "Epoch 195/250\n",
      "6640/6680 [============================>.] - ETA: 0s - loss: 4.8052 - acc: 0.7018Epoch 00195: val_loss did not improve\n",
      "6680/6680 [==============================] - 2s 247us/step - loss: 4.8054 - acc: 0.7018 - val_loss: 6.2300 - val_acc: 0.5581\n",
      "Epoch 196/250\n",
      "6540/6680 [============================>.] - ETA: 0s - loss: 4.8086 - acc: 0.7015Epoch 00196: val_loss did not improve\n",
      "6680/6680 [==============================] - 2s 245us/step - loss: 4.8051 - acc: 0.7016 - val_loss: 6.2239 - val_acc: 0.5629\n",
      "Epoch 197/250\n",
      "6600/6680 [============================>.] - ETA: 0s - loss: 4.7975 - acc: 0.7021Epoch 00197: val_loss did not improve\n",
      "6680/6680 [==============================] - 2s 244us/step - loss: 4.8051 - acc: 0.7016 - val_loss: 6.2253 - val_acc: 0.5629\n",
      "Epoch 198/250\n",
      "6560/6680 [============================>.] - ETA: 0s - loss: 4.8193 - acc: 0.7008Epoch 00198: val_loss did not improve\n",
      "6680/6680 [==============================] - 2s 248us/step - loss: 4.8052 - acc: 0.7016 - val_loss: 6.2247 - val_acc: 0.5629\n",
      "Epoch 199/250\n",
      "6500/6680 [============================>.] - ETA: 0s - loss: 4.7870 - acc: 0.7029Epoch 00199: val_loss did not improve\n",
      "6680/6680 [==============================] - 2s 249us/step - loss: 4.8052 - acc: 0.7018 - val_loss: 6.2333 - val_acc: 0.5581\n",
      "Epoch 200/250\n",
      "6500/6680 [============================>.] - ETA: 0s - loss: 4.8118 - acc: 0.7012Epoch 00200: val_loss did not improve\n",
      "6680/6680 [==============================] - 2s 249us/step - loss: 4.8052 - acc: 0.7016 - val_loss: 6.2381 - val_acc: 0.5605\n",
      "Epoch 201/250\n",
      "6520/6680 [============================>.] - ETA: 0s - loss: 4.7772 - acc: 0.7034Epoch 00201: val_loss did not improve\n",
      "6680/6680 [==============================] - 2s 249us/step - loss: 4.8051 - acc: 0.7016 - val_loss: 6.2300 - val_acc: 0.5617\n",
      "Epoch 202/250\n",
      "6480/6680 [============================>.] - ETA: 0s - loss: 4.8216 - acc: 0.7006Epoch 00202: val_loss did not improve\n",
      "6680/6680 [==============================] - 2s 251us/step - loss: 4.8052 - acc: 0.7016 - val_loss: 6.2299 - val_acc: 0.5617\n",
      "Epoch 203/250\n",
      "6480/6680 [============================>.] - ETA: 0s - loss: 4.8067 - acc: 0.7015Epoch 00203: val_loss did not improve\n",
      "6680/6680 [==============================] - 2s 251us/step - loss: 4.8051 - acc: 0.7016 - val_loss: 6.2300 - val_acc: 0.5617\n",
      "Epoch 204/250\n",
      "6600/6680 [============================>.] - ETA: 0s - loss: 4.8159 - acc: 0.7012Epoch 00204: val_loss did not improve\n",
      "6680/6680 [==============================] - 2s 254us/step - loss: 4.8051 - acc: 0.7018 - val_loss: 6.2386 - val_acc: 0.5605\n",
      "Epoch 205/250\n",
      "6520/6680 [============================>.] - ETA: 0s - loss: 4.8093 - acc: 0.7015Epoch 00205: val_loss did not improve\n",
      "6680/6680 [==============================] - 2s 249us/step - loss: 4.8051 - acc: 0.7018 - val_loss: 6.2249 - val_acc: 0.5605\n",
      "Epoch 206/250\n",
      "6640/6680 [============================>.] - ETA: 0s - loss: 4.8069 - acc: 0.7017Epoch 00206: val_loss did not improve\n",
      "6680/6680 [==============================] - 2s 247us/step - loss: 4.8046 - acc: 0.7018 - val_loss: 6.2419 - val_acc: 0.5605\n",
      "Epoch 207/250\n",
      "6460/6680 [============================>.] - ETA: 0s - loss: 4.7919 - acc: 0.7026Epoch 00207: val_loss did not improve\n",
      "6680/6680 [==============================] - 2s 245us/step - loss: 4.8054 - acc: 0.7018 - val_loss: 6.2389 - val_acc: 0.5569\n",
      "Epoch 208/250\n",
      "6620/6680 [============================>.] - ETA: 0s - loss: 4.8002 - acc: 0.7021Epoch 00208: val_loss did not improve\n",
      "6680/6680 [==============================] - 2s 243us/step - loss: 4.8053 - acc: 0.7018 - val_loss: 6.2401 - val_acc: 0.5569\n",
      "Epoch 209/250\n",
      "6580/6680 [============================>.] - ETA: 0s - loss: 4.8194 - acc: 0.7008Epoch 00209: val_loss did not improve\n",
      "6680/6680 [==============================] - 2s 244us/step - loss: 4.8052 - acc: 0.7016 - val_loss: 6.2400 - val_acc: 0.5569\n",
      "Epoch 210/250\n",
      "6600/6680 [============================>.] - ETA: 0s - loss: 4.7952 - acc: 0.7024Epoch 00210: val_loss did not improve\n",
      "6680/6680 [==============================] - 2s 245us/step - loss: 4.8053 - acc: 0.7018 - val_loss: 6.2399 - val_acc: 0.5581\n"
     ]
    },
    {
     "name": "stdout",
     "output_type": "stream",
     "text": [
      "Epoch 211/250\n",
      "6620/6680 [============================>.] - ETA: 0s - loss: 4.8171 - acc: 0.7009Epoch 00211: val_loss did not improve\n",
      "6680/6680 [==============================] - 2s 247us/step - loss: 4.8052 - acc: 0.7016 - val_loss: 6.2405 - val_acc: 0.5581\n",
      "Epoch 212/250\n",
      "6460/6680 [============================>.] - ETA: 0s - loss: 4.8130 - acc: 0.7014Epoch 00212: val_loss did not improve\n",
      "6680/6680 [==============================] - 2s 246us/step - loss: 4.8053 - acc: 0.7018 - val_loss: 6.2370 - val_acc: 0.5569\n",
      "Epoch 213/250\n",
      "6560/6680 [============================>.] - ETA: 0s - loss: 4.7997 - acc: 0.7020Epoch 00213: val_loss did not improve\n",
      "6680/6680 [==============================] - 2s 245us/step - loss: 4.8051 - acc: 0.7016 - val_loss: 6.2175 - val_acc: 0.5605\n",
      "Epoch 214/250\n",
      "6600/6680 [============================>.] - ETA: 0s - loss: 4.8050 - acc: 0.7018Epoch 00214: val_loss did not improve\n",
      "6680/6680 [==============================] - 2s 244us/step - loss: 4.8053 - acc: 0.7018 - val_loss: 6.2224 - val_acc: 0.5605\n",
      "Epoch 215/250\n",
      "6480/6680 [============================>.] - ETA: 0s - loss: 4.7794 - acc: 0.7032Epoch 00215: val_loss did not improve\n",
      "6680/6680 [==============================] - 2s 246us/step - loss: 4.8052 - acc: 0.7016 - val_loss: 6.2247 - val_acc: 0.5593\n",
      "Epoch 216/250\n",
      "6500/6680 [============================>.] - ETA: 0s - loss: 4.8094 - acc: 0.7015Epoch 00216: val_loss did not improve\n",
      "6680/6680 [==============================] - 2s 245us/step - loss: 4.8053 - acc: 0.7018 - val_loss: 6.2253 - val_acc: 0.5593\n",
      "Epoch 217/250\n",
      "6600/6680 [============================>.] - ETA: 0s - loss: 4.8097 - acc: 0.7014Epoch 00217: val_loss did not improve\n",
      "6680/6680 [==============================] - 2s 250us/step - loss: 4.8051 - acc: 0.7016 - val_loss: 6.2189 - val_acc: 0.5593\n",
      "Epoch 218/250\n",
      "6520/6680 [============================>.] - ETA: 0s - loss: 4.8240 - acc: 0.7006Epoch 00218: val_loss did not improve\n",
      "6680/6680 [==============================] - 2s 245us/step - loss: 4.8050 - acc: 0.7018 - val_loss: 6.2278 - val_acc: 0.5581\n",
      "Epoch 219/250\n",
      "6460/6680 [============================>.] - ETA: 0s - loss: 4.8016 - acc: 0.7019Epoch 00219: val_loss did not improve\n",
      "6680/6680 [==============================] - 2s 246us/step - loss: 4.8052 - acc: 0.7016 - val_loss: 6.2266 - val_acc: 0.5593\n",
      "Epoch 220/250\n",
      "6480/6680 [============================>.] - ETA: 0s - loss: 4.8090 - acc: 0.7015Epoch 00220: val_loss did not improve\n",
      "6680/6680 [==============================] - 2s 247us/step - loss: 4.8050 - acc: 0.7018 - val_loss: 6.2226 - val_acc: 0.5593\n",
      "Epoch 221/250\n",
      "6480/6680 [============================>.] - ETA: 0s - loss: 4.8391 - acc: 0.6995Epoch 00221: val_loss did not improve\n",
      "6680/6680 [==============================] - 2s 246us/step - loss: 4.8052 - acc: 0.7016 - val_loss: 6.2229 - val_acc: 0.5593\n",
      "Epoch 222/250\n",
      "6480/6680 [============================>.] - ETA: 0s - loss: 4.8267 - acc: 0.7005Epoch 00222: val_loss did not improve\n",
      "6680/6680 [==============================] - 2s 245us/step - loss: 4.8052 - acc: 0.7018 - val_loss: 6.2229 - val_acc: 0.5593\n",
      "Epoch 223/250\n",
      "6500/6680 [============================>.] - ETA: 0s - loss: 4.8019 - acc: 0.7020Epoch 00223: val_loss did not improve\n",
      "6680/6680 [==============================] - 2s 247us/step - loss: 4.8053 - acc: 0.7018 - val_loss: 6.2228 - val_acc: 0.5593\n",
      "Epoch 224/250\n",
      "6540/6680 [============================>.] - ETA: 0s - loss: 4.8194 - acc: 0.7009Epoch 00224: val_loss did not improve\n",
      "6680/6680 [==============================] - 2s 246us/step - loss: 4.8053 - acc: 0.7018 - val_loss: 6.2236 - val_acc: 0.5581\n",
      "Epoch 225/250\n",
      "6640/6680 [============================>.] - ETA: 0s - loss: 4.7928 - acc: 0.7024Epoch 00225: val_loss did not improve\n",
      "6680/6680 [==============================] - 2s 246us/step - loss: 4.8051 - acc: 0.7016 - val_loss: 6.2294 - val_acc: 0.5605\n",
      "Epoch 226/250\n",
      "6480/6680 [============================>.] - ETA: 0s - loss: 4.8042 - acc: 0.7019Epoch 00226: val_loss did not improve\n",
      "6680/6680 [==============================] - 2s 245us/step - loss: 4.8051 - acc: 0.7018 - val_loss: 6.2230 - val_acc: 0.5605\n",
      "Epoch 227/250\n",
      "6580/6680 [============================>.] - ETA: 0s - loss: 4.8146 - acc: 0.7011Epoch 00227: val_loss did not improve\n",
      "6680/6680 [==============================] - 2s 245us/step - loss: 4.8052 - acc: 0.7016 - val_loss: 6.2266 - val_acc: 0.5605\n",
      "Epoch 228/250\n",
      "6500/6680 [============================>.] - ETA: 0s - loss: 4.7919 - acc: 0.7025Epoch 00228: val_loss did not improve\n",
      "6680/6680 [==============================] - 2s 246us/step - loss: 4.8052 - acc: 0.7016 - val_loss: 6.2347 - val_acc: 0.5617\n",
      "Epoch 229/250\n",
      "6600/6680 [============================>.] - ETA: 0s - loss: 4.7976 - acc: 0.7023Epoch 00229: val_loss did not improve\n",
      "6680/6680 [==============================] - 2s 250us/step - loss: 4.8053 - acc: 0.7018 - val_loss: 6.2259 - val_acc: 0.5617\n",
      "Epoch 230/250\n",
      "6640/6680 [============================>.] - ETA: 0s - loss: 4.8003 - acc: 0.7021Epoch 00230: val_loss did not improve\n",
      "6680/6680 [==============================] - 2s 247us/step - loss: 4.8053 - acc: 0.7018 - val_loss: 6.2227 - val_acc: 0.5617\n",
      "Epoch 231/250\n",
      "6580/6680 [============================>.] - ETA: 0s - loss: 4.8043 - acc: 0.7018Epoch 00231: val_loss did not improve\n",
      "6680/6680 [==============================] - 2s 244us/step - loss: 4.8048 - acc: 0.7018 - val_loss: 6.2308 - val_acc: 0.5593\n",
      "Epoch 232/250\n",
      "6560/6680 [============================>.] - ETA: 0s - loss: 4.7877 - acc: 0.7029Epoch 00232: val_loss did not improve\n",
      "6680/6680 [==============================] - 2s 245us/step - loss: 4.8054 - acc: 0.7018 - val_loss: 6.2271 - val_acc: 0.5593\n",
      "Epoch 233/250\n",
      "6660/6680 [============================>.] - ETA: 0s - loss: 4.7908 - acc: 0.7027Epoch 00233: val_loss did not improve\n",
      "6680/6680 [==============================] - 2s 246us/step - loss: 4.8054 - acc: 0.7018 - val_loss: 6.2238 - val_acc: 0.5605\n",
      "Epoch 234/250\n",
      "6500/6680 [============================>.] - ETA: 0s - loss: 4.7845 - acc: 0.7029Epoch 00234: val_loss did not improve\n",
      "6680/6680 [==============================] - 2s 246us/step - loss: 4.8051 - acc: 0.7016 - val_loss: 6.2173 - val_acc: 0.5617\n",
      "Epoch 235/250\n",
      "6660/6680 [============================>.] - ETA: 0s - loss: 4.8123 - acc: 0.7012Epoch 00235: val_loss did not improve\n",
      "6680/6680 [==============================] - 2s 246us/step - loss: 4.8051 - acc: 0.7016 - val_loss: 6.2172 - val_acc: 0.5617\n",
      "Epoch 236/250\n",
      "6540/6680 [============================>.] - ETA: 0s - loss: 4.7925 - acc: 0.7026Epoch 00236: val_loss did not improve\n",
      "6680/6680 [==============================] - 2s 248us/step - loss: 4.8054 - acc: 0.7018 - val_loss: 6.2183 - val_acc: 0.5629\n",
      "Epoch 237/250\n",
      "6520/6680 [============================>.] - ETA: 0s - loss: 4.7920 - acc: 0.7025Epoch 00237: val_loss did not improve\n",
      "6680/6680 [==============================] - 2s 245us/step - loss: 4.8051 - acc: 0.7016 - val_loss: 6.2178 - val_acc: 0.5629\n",
      "Epoch 238/250\n",
      "6640/6680 [============================>.] - ETA: 0s - loss: 4.8074 - acc: 0.7015Epoch 00238: val_loss did not improve\n",
      "6680/6680 [==============================] - 2s 246us/step - loss: 4.8051 - acc: 0.7016 - val_loss: 6.2176 - val_acc: 0.5629\n",
      "Epoch 239/250\n",
      "6620/6680 [============================>.] - ETA: 0s - loss: 4.8073 - acc: 0.7015Epoch 00239: val_loss did not improve\n",
      "6680/6680 [==============================] - 2s 247us/step - loss: 4.8051 - acc: 0.7016 - val_loss: 6.2178 - val_acc: 0.5629\n",
      "Epoch 240/250\n",
      "6560/6680 [============================>.] - ETA: 0s - loss: 4.8073 - acc: 0.7017Epoch 00240: val_loss did not improve\n",
      "6680/6680 [==============================] - 2s 246us/step - loss: 4.8054 - acc: 0.7018 - val_loss: 6.2196 - val_acc: 0.5617\n",
      "Epoch 241/250\n",
      "6580/6680 [============================>.] - ETA: 0s - loss: 4.8047 - acc: 0.7017Epoch 00241: val_loss did not improve\n",
      "6680/6680 [==============================] - 2s 251us/step - loss: 4.8051 - acc: 0.7016 - val_loss: 6.2269 - val_acc: 0.5617\n",
      "Epoch 242/250\n",
      "6500/6680 [============================>.] - ETA: 0s - loss: 4.8255 - acc: 0.7006Epoch 00242: val_loss did not improve\n",
      "6680/6680 [==============================] - 2s 246us/step - loss: 4.8053 - acc: 0.7018 - val_loss: 6.2248 - val_acc: 0.5617\n"
     ]
    },
    {
     "name": "stdout",
     "output_type": "stream",
     "text": [
      "Epoch 243/250\n",
      "6600/6680 [============================>.] - ETA: 0s - loss: 4.8196 - acc: 0.7009Epoch 00243: val_loss did not improve\n",
      "6680/6680 [==============================] - 2s 244us/step - loss: 4.8053 - acc: 0.7018 - val_loss: 6.2325 - val_acc: 0.5593\n",
      "Epoch 244/250\n",
      "6480/6680 [============================>.] - ETA: 0s - loss: 4.7957 - acc: 0.7025Epoch 00244: val_loss did not improve\n",
      "6680/6680 [==============================] - 2s 247us/step - loss: 4.8053 - acc: 0.7018 - val_loss: 6.2327 - val_acc: 0.5593\n",
      "Epoch 245/250\n",
      "6560/6680 [============================>.] - ETA: 0s - loss: 4.8213 - acc: 0.7008Epoch 00245: val_loss did not improve\n",
      "6680/6680 [==============================] - 2s 247us/step - loss: 4.8046 - acc: 0.7018 - val_loss: 6.2320 - val_acc: 0.5593\n",
      "Epoch 246/250\n",
      "6660/6680 [============================>.] - ETA: 0s - loss: 4.8026 - acc: 0.7018Epoch 00246: val_loss did not improve\n",
      "6680/6680 [==============================] - 2s 248us/step - loss: 4.8051 - acc: 0.7016 - val_loss: 6.2354 - val_acc: 0.5593\n",
      "Epoch 247/250\n",
      "6540/6680 [============================>.] - ETA: 0s - loss: 4.7969 - acc: 0.7023Epoch 00247: val_loss did not improve\n",
      "6680/6680 [==============================] - 2s 246us/step - loss: 4.8050 - acc: 0.7018 - val_loss: 6.2301 - val_acc: 0.5593\n",
      "Epoch 248/250\n",
      "6600/6680 [============================>.] - ETA: 0s - loss: 4.8171 - acc: 0.7011Epoch 00248: val_loss did not improve\n",
      "6680/6680 [==============================] - 2s 247us/step - loss: 4.8052 - acc: 0.7018 - val_loss: 6.2268 - val_acc: 0.5593\n",
      "Epoch 249/250\n",
      "6460/6680 [============================>.] - ETA: 0s - loss: 4.8092 - acc: 0.7015Epoch 00249: val_loss did not improve\n",
      "6680/6680 [==============================] - 2s 247us/step - loss: 4.8052 - acc: 0.7018 - val_loss: 6.2265 - val_acc: 0.5593\n",
      "Epoch 250/250\n",
      "6560/6680 [============================>.] - ETA: 0s - loss: 4.7801 - acc: 0.7034Epoch 00250: val_loss did not improve\n",
      "6680/6680 [==============================] - 2s 244us/step - loss: 4.8052 - acc: 0.7018 - val_loss: 6.2320 - val_acc: 0.5569\n"
     ]
    }
   ],
   "source": [
    "from keras.callbacks import ModelCheckpoint \n",
    "\n",
    "#Train Model\n",
    "\n",
    "checkpointer = ModelCheckpoint(filepath='saved_models/weights.best.VGG19.hdf5', \n",
    "                               verbose=1, save_best_only=True)\n",
    "\n",
    "VGG19_model = VGG19_model.fit(train_VGG19, train_targets, \n",
    "          validation_data=(valid_VGG19, valid_targets),\n",
    "          epochs=250, batch_size=20, callbacks=[checkpointer], verbose=1)"
   ]
  },
  {
   "cell_type": "markdown",
   "metadata": {},
   "source": [
    "### (IMPLEMENTATION) Load the Model with the Best Validation Loss"
   ]
  },
  {
   "cell_type": "code",
   "execution_count": 21,
   "metadata": {},
   "outputs": [],
   "source": [
    "### TODO: Load the model weights with the best validation loss.\n",
    "VGG19_model.model.load_weights('saved_models/weights.best.VGG19.hdf5')"
   ]
  },
  {
   "cell_type": "markdown",
   "metadata": {},
   "source": [
    "### Visualise Training"
   ]
  },
  {
   "cell_type": "code",
   "execution_count": 22,
   "metadata": {},
   "outputs": [
    {
     "name": "stdout",
     "output_type": "stream",
     "text": [
      "dict_keys(['val_loss', 'val_acc', 'loss', 'acc'])\n"
     ]
    },
    {
     "data": {
      "image/png": "[encoded data removed]",
      "text/plain": [
       "<matplotlib.figure.Figure at 0x7f53ec415828>"
      ]
     },
     "metadata": {
      "needs_background": "light"
     },
     "output_type": "display_data"
    },
    {
     "data": {
      "image/png": "[encoded data removed]",
      "text/plain": [
       "<matplotlib.figure.Figure at 0x7f53ec396550>"
      ]
     },
     "metadata": {
      "needs_background": "light"
     },
     "output_type": "display_data"
    }
   ],
   "source": [
    "# list all data in history\n",
    "print(VGG19_model.history.keys())\n",
    "# summarize history for accuracy\n",
    "\n",
    "plt.plot(VGG19_model.history['acc'])\n",
    "plt.plot(VGG19_model.history['val_acc'])\n",
    "plt.title('model accuracy')\n",
    "plt.ylabel('accuracy')\n",
    "plt.xlabel('epoch')\n",
    "plt.legend(['train', 'test'], loc='upper left')\n",
    "plt.show()\n",
    "\n",
    "# summarize history for loss\n",
    "plt.plot(VGG19_model.history['loss'])\n",
    "plt.plot(VGG19_model.history['val_loss'])\n",
    "plt.title('model loss')\n",
    "plt.ylabel('loss')\n",
    "plt.xlabel('epoch')\n",
    "plt.legend(['train', 'test'], loc='upper left')\n",
    "plt.show()\n"
   ]
  },
  {
   "cell_type": "markdown",
   "metadata": {},
   "source": [
    "### (IMPLEMENTATION) Test the Model\n",
    "\n",
    "Try out your model on the test dataset of dog images. Ensure that your test accuracy is greater than 60%."
   ]
  },
  {
   "cell_type": "code",
   "execution_count": 24,
   "metadata": {},
   "outputs": [
    {
     "name": "stdout",
     "output_type": "stream",
     "text": [
      "Test accuracy: 55.5024%\n"
     ]
    }
   ],
   "source": [
    "### TODO: Calculate classification accuracy on the test dataset.\n",
    "# get index of predicted dog breed for each image in test set\n",
    "VGG19_predictions = [np.argmax(VGG19_model.model.predict(np.expand_dims(feature, axis=0))) for feature in test_VGG19]\n",
    "\n",
    "# report test accuracy\n",
    "test_accuracy = 100*np.sum(np.array(VGG19_predictions)==np.argmax(test_targets, axis=1))/len(VGG19_predictions)\n",
    "print('Test accuracy: %.4f%%' % test_accuracy)"
   ]
  },
  {
   "cell_type": "markdown",
   "metadata": {},
   "source": [
    "# Resnet50 \n",
    "VGG19 provided unsatisfactory accuracy. Experiment with Resnet50."
   ]
  },
  {
   "cell_type": "markdown",
   "metadata": {},
   "source": [
    "### Bottleneck Features"
   ]
  },
  {
   "cell_type": "code",
   "execution_count": 254,
   "metadata": {},
   "outputs": [],
   "source": [
    "### TODO: Obtain bottleneck features from another pre-trained CNN.\n",
    "bottleneck_features = np.load('bottleneck_features/DogResnet50Data.npz')\n",
    "train_Resnet50 = bottleneck_features['train']\n",
    "valid_Resnet50 = bottleneck_features['valid']\n",
    "test_Resnet50 = bottleneck_features['test']"
   ]
  },
  {
   "cell_type": "markdown",
   "metadata": {},
   "source": [
    "### Model Architecture"
   ]
  },
  {
   "cell_type": "code",
   "execution_count": 255,
   "metadata": {},
   "outputs": [
    {
     "name": "stdout",
     "output_type": "stream",
     "text": [
      "_________________________________________________________________\n",
      "Layer (type)                 Output Shape              Param #   \n",
      "=================================================================\n",
      "global_average_pooling2d_4 ( (None, 2048)              0         \n",
      "_________________________________________________________________\n",
      "dense_5 (Dense)              (None, 133)               272517    \n",
      "=================================================================\n",
      "Total params: 272,517\n",
      "Trainable params: 272,517\n",
      "Non-trainable params: 0\n",
      "_________________________________________________________________\n"
     ]
    }
   ],
   "source": [
    "### TODO: Define your architecture.\n",
    "Resnet50_model = Sequential()\n",
    "Resnet50_model.add(GlobalAveragePooling2D(input_shape=train_Resnet50.shape[1:]))\n",
    "Resnet50_model.add(Dense(133, activation='softmax'))\n",
    "\n",
    "Resnet50_model.summary()\n"
   ]
  },
  {
   "cell_type": "markdown",
   "metadata": {},
   "source": [
    "### Compile the Model"
   ]
  },
  {
   "cell_type": "code",
   "execution_count": 256,
   "metadata": {},
   "outputs": [],
   "source": [
    "### TODO: Compile the model.\n",
    "Resnet50_model.compile(loss='categorical_crossentropy', optimizer='rmsprop', metrics=['accuracy'])"
   ]
  },
  {
   "cell_type": "markdown",
   "metadata": {},
   "source": [
    "### Train Model"
   ]
  },
  {
   "cell_type": "code",
   "execution_count": 257,
   "metadata": {},
   "outputs": [
    {
     "name": "stdout",
     "output_type": "stream",
     "text": [
      "Train on 6680 samples, validate on 835 samples\n",
      "Epoch 1/20\n",
      "6640/6680 [============================>.] - ETA: 0s - loss: 1.6049 - acc: 0.5979Epoch 00001: val_loss improved from inf to 0.82487, saving model to saved_models/weights.best.Resnet50.hdf5\n",
      "6680/6680 [==============================] - 2s 268us/step - loss: 1.5994 - acc: 0.5991 - val_loss: 0.8249 - val_acc: 0.7353\n",
      "Epoch 2/20\n",
      "6600/6680 [============================>.] - ETA: 0s - loss: 0.4403 - acc: 0.8609Epoch 00002: val_loss improved from 0.82487 to 0.68623, saving model to saved_models/weights.best.Resnet50.hdf5\n",
      "6680/6680 [==============================] - 1s 223us/step - loss: 0.4389 - acc: 0.8612 - val_loss: 0.6862 - val_acc: 0.7940\n",
      "Epoch 3/20\n",
      "6620/6680 [============================>.] - ETA: 0s - loss: 0.2645 - acc: 0.9171Epoch 00003: val_loss did not improve\n",
      "6680/6680 [==============================] - 1s 222us/step - loss: 0.2641 - acc: 0.9172 - val_loss: 0.7164 - val_acc: 0.8036\n",
      "Epoch 4/20\n",
      "6620/6680 [============================>.] - ETA: 0s - loss: 0.1772 - acc: 0.9435Epoch 00004: val_loss did not improve\n",
      "6680/6680 [==============================] - 1s 222us/step - loss: 0.1790 - acc: 0.9433 - val_loss: 0.6896 - val_acc: 0.7964\n",
      "Epoch 5/20\n",
      "6420/6680 [===========================>..] - ETA: 0s - loss: 0.1192 - acc: 0.9643Epoch 00005: val_loss did not improve\n",
      "6680/6680 [==============================] - 1s 219us/step - loss: 0.1201 - acc: 0.9642 - val_loss: 0.7019 - val_acc: 0.8204\n",
      "Epoch 6/20\n",
      "6620/6680 [============================>.] - ETA: 0s - loss: 0.0903 - acc: 0.9722Epoch 00006: val_loss improved from 0.68623 to 0.67354, saving model to saved_models/weights.best.Resnet50.hdf5\n",
      "6680/6680 [==============================] - 1s 223us/step - loss: 0.0914 - acc: 0.9720 - val_loss: 0.6735 - val_acc: 0.8299\n",
      "Epoch 7/20\n",
      "6460/6680 [============================>.] - ETA: 0s - loss: 0.0637 - acc: 0.9797Epoch 00007: val_loss did not improve\n",
      "6680/6680 [==============================] - 1s 219us/step - loss: 0.0656 - acc: 0.9795 - val_loss: 0.7523 - val_acc: 0.8251\n",
      "Epoch 8/20\n",
      "6640/6680 [============================>.] - ETA: 0s - loss: 0.0490 - acc: 0.9860Epoch 00008: val_loss did not improve\n",
      "6680/6680 [==============================] - 1s 221us/step - loss: 0.0494 - acc: 0.9858 - val_loss: 0.7212 - val_acc: 0.8180\n",
      "Epoch 9/20\n",
      "6440/6680 [===========================>..] - ETA: 0s - loss: 0.0382 - acc: 0.9901Epoch 00009: val_loss did not improve\n",
      "6680/6680 [==============================] - 1s 220us/step - loss: 0.0381 - acc: 0.9898 - val_loss: 0.7317 - val_acc: 0.8120\n",
      "Epoch 10/20\n",
      "6660/6680 [============================>.] - ETA: 0s - loss: 0.0280 - acc: 0.9916Epoch 00010: val_loss did not improve\n",
      "6680/6680 [==============================] - 1s 220us/step - loss: 0.0280 - acc: 0.9916 - val_loss: 0.7657 - val_acc: 0.8180\n",
      "Epoch 11/20\n",
      "6440/6680 [===========================>..] - ETA: 0s - loss: 0.0221 - acc: 0.9946Epoch 00011: val_loss did not improve\n",
      "6680/6680 [==============================] - 1s 219us/step - loss: 0.0220 - acc: 0.9946 - val_loss: 0.7313 - val_acc: 0.8240\n",
      "Epoch 12/20\n",
      "6600/6680 [============================>.] - ETA: 0s - loss: 0.0174 - acc: 0.9959Epoch 00012: val_loss did not improve\n",
      "6680/6680 [==============================] - 1s 221us/step - loss: 0.0177 - acc: 0.9958 - val_loss: 0.7891 - val_acc: 0.8287\n",
      "Epoch 13/20\n",
      "6420/6680 [===========================>..] - ETA: 0s - loss: 0.0156 - acc: 0.9958Epoch 00013: val_loss did not improve\n",
      "6680/6680 [==============================] - 1s 220us/step - loss: 0.0160 - acc: 0.9957 - val_loss: 0.8171 - val_acc: 0.8168\n",
      "Epoch 14/20\n",
      "6620/6680 [============================>.] - ETA: 0s - loss: 0.0121 - acc: 0.9976Epoch 00014: val_loss did not improve\n",
      "6680/6680 [==============================] - 1s 222us/step - loss: 0.0120 - acc: 0.9976 - val_loss: 0.8825 - val_acc: 0.8192\n",
      "Epoch 15/20\n",
      "6500/6680 [============================>.] - ETA: 0s - loss: 0.0102 - acc: 0.9974Epoch 00015: val_loss did not improve\n",
      "6680/6680 [==============================] - 2s 225us/step - loss: 0.0101 - acc: 0.9975 - val_loss: 0.8675 - val_acc: 0.8204\n",
      "Epoch 16/20\n",
      "6420/6680 [===========================>..] - ETA: 0s - loss: 0.0099 - acc: 0.9977Epoch 00016: val_loss did not improve\n",
      "6680/6680 [==============================] - 1s 219us/step - loss: 0.0100 - acc: 0.9976 - val_loss: 0.8573 - val_acc: 0.8275\n",
      "Epoch 17/20\n",
      "6640/6680 [============================>.] - ETA: 0s - loss: 0.0076 - acc: 0.9980Epoch 00017: val_loss did not improve\n",
      "6680/6680 [==============================] - 1s 219us/step - loss: 0.0076 - acc: 0.9981 - val_loss: 0.8665 - val_acc: 0.8335\n",
      "Epoch 18/20\n",
      "6640/6680 [============================>.] - ETA: 0s - loss: 0.0068 - acc: 0.9985Epoch 00018: val_loss did not improve\n",
      "6680/6680 [==============================] - 1s 221us/step - loss: 0.0067 - acc: 0.9985 - val_loss: 0.9264 - val_acc: 0.8180\n",
      "Epoch 19/20\n",
      "6600/6680 [============================>.] - ETA: 0s - loss: 0.0065 - acc: 0.9982Epoch 00019: val_loss did not improve\n",
      "6680/6680 [==============================] - 1s 222us/step - loss: 0.0064 - acc: 0.9982 - val_loss: 0.9196 - val_acc: 0.8156\n",
      "Epoch 20/20\n",
      "6540/6680 [============================>.] - ETA: 0s - loss: 0.0062 - acc: 0.9982Epoch 00020: val_loss did not improve\n",
      "6680/6680 [==============================] - 1s 222us/step - loss: 0.0061 - acc: 0.9982 - val_loss: 0.9405 - val_acc: 0.8240\n"
     ]
    }
   ],
   "source": [
    "from keras.callbacks import ModelCheckpoint \n",
    "\n",
    "#Train Model\n",
    "\n",
    "checkpointer = ModelCheckpoint(filepath='saved_models/weights.best.Resnet50.hdf5', \n",
    "                               verbose=1, save_best_only=True)\n",
    "\n",
    "Resnet50_model = Resnet50_model.fit(train_Resnet50, train_targets, \n",
    "          validation_data=(valid_Resnet50, valid_targets),\n",
    "          epochs=20, batch_size=20, callbacks=[checkpointer], verbose=1)"
   ]
  },
  {
   "cell_type": "markdown",
   "metadata": {},
   "source": [
    "### Load the Model with the Best Validation Loss"
   ]
  },
  {
   "cell_type": "code",
   "execution_count": 258,
   "metadata": {},
   "outputs": [],
   "source": [
    "### TODO: Load the model weights with the best validation loss.\n",
    "Resnet50_model.model.load_weights('saved_models/weights.best.Resnet50.hdf5')"
   ]
  },
  {
   "cell_type": "markdown",
   "metadata": {},
   "source": [
    "### Visualise Training"
   ]
  },
  {
   "cell_type": "code",
   "execution_count": 259,
   "metadata": {},
   "outputs": [
    {
     "name": "stdout",
     "output_type": "stream",
     "text": [
      "dict_keys(['val_loss', 'val_acc', 'loss', 'acc'])\n"
     ]
    },
    {
     "data": {
      "image/png": "[encoded data removed]",
      "text/plain": [
       "<matplotlib.figure.Figure at 0x7f73427fba58>"
      ]
     },
     "metadata": {
      "needs_background": "light"
     },
     "output_type": "display_data"
    },
    {
     "data": {
      "image/png": "[encoded data removed]",
      "text/plain": [
       "<matplotlib.figure.Figure at 0x7f7360e764a8>"
      ]
     },
     "metadata": {
      "needs_background": "light"
     },
     "output_type": "display_data"
    }
   ],
   "source": [
    "# list all data in history\n",
    "print(Resnet50_model.history.keys())\n",
    "# summarize history for accuracy\n",
    "\n",
    "plt.plot(Resnet50_model.history['acc'])\n",
    "plt.plot(Resnet50_model.history['val_acc'])\n",
    "plt.title('model accuracy')\n",
    "plt.ylabel('accuracy')\n",
    "plt.xlabel('epoch')\n",
    "plt.legend(['train', 'test'], loc='upper left')\n",
    "plt.show()\n",
    "\n",
    "# summarize history for loss\n",
    "plt.plot(Resnet50_model.history['loss'])\n",
    "plt.plot(Resnet50_model.history['val_loss'])\n",
    "plt.title('model loss')\n",
    "plt.ylabel('loss')\n",
    "plt.xlabel('epoch')\n",
    "plt.legend(['train', 'test'], loc='upper left')\n",
    "plt.show()\n"
   ]
  },
  {
   "cell_type": "markdown",
   "metadata": {},
   "source": [
    "## Test Model"
   ]
  },
  {
   "cell_type": "code",
   "execution_count": 260,
   "metadata": {},
   "outputs": [
    {
     "name": "stdout",
     "output_type": "stream",
     "text": [
      "Test accuracy: 80.9809%\n"
     ]
    }
   ],
   "source": [
    "### TODO: Calculate classification accuracy on the test dataset.\n",
    "# get index of predicted dog breed for each image in test set\n",
    "Resnet50_predictions = [np.argmax(Resnet50_model.model.predict(np.expand_dims(feature, axis=0)))\n",
    "                        for feature in test_Resnet50]\n",
    "\n",
    "# report test accuracy\n",
    "test_accuracy = 100*np.sum(np.array(Resnet50_predictions)==np.argmax(test_targets, axis=1))/len(Resnet50_predictions)\n",
    "print('Test accuracy: %.4f%%' % test_accuracy)"
   ]
  },
  {
   "cell_type": "markdown",
   "metadata": {},
   "source": [
    "### Save model to file"
   ]
  },
  {
   "cell_type": "code",
   "execution_count": 16,
   "metadata": {},
   "outputs": [
    {
     "name": "stdout",
     "output_type": "stream",
     "text": [
      "Saved model to disk\n"
     ]
    }
   ],
   "source": [
    "Resnet50_model.model.save(\"Resnet_50_20211004.h5\")\n",
    "print(\"Saved model to disk\")"
   ]
  },
  {
   "cell_type": "markdown",
   "metadata": {},
   "source": [
    "### Reload model if required"
   ]
  },
  {
   "cell_type": "code",
   "execution_count": 3,
   "metadata": {},
   "outputs": [
    {
     "name": "stdout",
     "output_type": "stream",
     "text": [
      "_________________________________________________________________\n",
      "Layer (type)                 Output Shape              Param #   \n",
      "=================================================================\n",
      "global_average_pooling2d_1_i (None, 1, 1, 2048)        0         \n",
      "_________________________________________________________________\n",
      "global_average_pooling2d_1 ( (None, 2048)              0         \n",
      "_________________________________________________________________\n",
      "dense_1 (Dense)              (None, 133)               272517    \n",
      "=================================================================\n",
      "Total params: 272,517\n",
      "Trainable params: 272,517\n",
      "Non-trainable params: 0\n",
      "_________________________________________________________________\n"
     ]
    }
   ],
   "source": [
    "from keras.models import load_model\n",
    "\n",
    "# load model\n",
    "Resnet50_model = load_model('Resnet_50_20211004.h5')\n",
    "# summarize model.\n",
    "Resnet50_model.summary()"
   ]
  },
  {
   "cell_type": "markdown",
   "metadata": {
    "collapsed": true
   },
   "source": [
    "### Function that takes a path to an image as input and returns the dog breed that is predicted by the model."
   ]
  },
  {
   "cell_type": "code",
   "execution_count": 33,
   "metadata": {},
   "outputs": [
    {
     "data": {
      "text/plain": [
       "('Labrador_retriever', (1, 1, 1, 2048))"
      ]
     },
     "execution_count": 33,
     "metadata": {},
     "output_type": "execute_result"
    }
   ],
   "source": [
    "from extract_bottleneck_features import extract_Resnet50\n",
    "import numpy as np\n",
    "\n",
    "\n",
    "def breed_predictor(img_path):\n",
    "    '''Function that takes the file path of an image and returns the dog breed as predicted by a model.\n",
    "    \n",
    "    Input: Filepath to image \n",
    "    \n",
    "    Output: Predicted Dog Breed     \n",
    "    '''\n",
    "    #Bottleneck from pre written function [ref Udacity]\n",
    "    bottleneck_features = extract_Resnet50(path_to_tensor(img_path))\n",
    "    #Make Prediction\n",
    "    prediction = np.argmax(Resnet50_model.predict(bottleneck_features))\n",
    "    return dog_names[(prediction)].split(\".\",1)[1], bottleneck_features.shape\n",
    "\n",
    "breed_predictor(r'/home/workspace/dog-project/images/Labrador_retriever_06449.jpg')\n",
    "    \n",
    "    "
   ]
  },
  {
   "cell_type": "markdown",
   "metadata": {},
   "source": [
    "---\n",
    "<a id='step6'></a>\n",
    "## Step 6: Write your Algorithm\n",
    "\n",
    "Write an algorithm that accepts a file path to an image and first determines whether the image contains a human, dog, or neither.  Then,\n",
    "- if a __dog__ is detected in the image, return the predicted breed.\n",
    "- if a __human__ is detected in the image, return the resembling dog breed.\n",
    "- if __neither__ is detected in the image, provide output that indicates an error.\n",
    "\n",
    "You are welcome to write your own functions for detecting humans and dogs in images, but feel free to use the `face_detector` and `dog_detector` functions developed above.  You are __required__ to use your CNN from Step 5 to predict dog breed.  \n",
    "\n",
    "A sample image and output for our algorithm is provided below, but feel free to design your own user experience!\n",
    "\n",
    "![Sample Human Output](images/sample_human_2.png)\n",
    "\n",
    "This photo looks like an Afghan Hound.\n",
    "### (IMPLEMENTATION) Write your Algorithm"
   ]
  },
  {
   "cell_type": "code",
   "execution_count": 31,
   "metadata": {},
   "outputs": [],
   "source": [
    "### TODO: Write your algorithm.\n",
    "### Feel free to use as many code cells as needed.\n",
    "def dog_predictor (img_path):\n",
    "    ''' Function to take an image path and run it through the algorithm developed\n",
    "    INPUT: File path to image\n",
    "    OUTPUT: Classify Using Algorithm\n",
    "    '''\n",
    "    if dog_detector(img_path) == True:\n",
    "        response = \"This looks like a dog! I think it might be a\"\n",
    "        breed = breed_predictor(img_path)\n",
    "           \n",
    "    elif face_detector(img_path) == True: \n",
    "        response = \"This looks like a human face! If it were a dog though, I think it is a \"\n",
    "        breed =  breed_predictor(img_path)\n",
    "        \n",
    "    else:\n",
    "        response = \"Oh, this doesnt look like a dog or a human!\"\n",
    "        breed = \"Why don't you try again\"\n",
    "       \n",
    "    return f'{response} {breed}' \n",
    "        \n",
    "    "
   ]
  },
  {
   "cell_type": "markdown",
   "metadata": {},
   "source": [
    "---\n",
    "<a id='step7'></a>\n",
    "## Step 7: Test Your Algorithm\n",
    "\n",
    "In this section, you will take your new algorithm for a spin!  What kind of dog does the algorithm think that __you__ look like?  If you have a dog, does it predict your dog's breed accurately?  If you have a cat, does it mistakenly think that your cat is a dog?\n",
    "\n",
    "### (IMPLEMENTATION) Test Your Algorithm on Sample Images!\n",
    "\n",
    "Test your algorithm at least six images on your computer.  Feel free to use any images you like.  Use at least two human and two dog images.  \n",
    "\n",
    "__Question 6:__ Is the output better than you expected :) ?  Or worse :( ?  Provide at least three possible points of improvement for your algorithm.\n",
    "\n",
    "__Answer:__ The outcome of the sampling was slightly dissappointing. In testing, on this all be it small sample, we see that the algorithm is quite poor at detecting whether the image supplied is a dog or a human. When it comes to the breed predictor, performance is not particularly impressive either, all be it the breed that the model predicts does appear to closely resemble that of the image. \n",
    "\n",
    "In order to improve the model, we could try a number of improvements:\n",
    "\n",
    "1) The use of image augmentation could be used to ensure that the model is training on a wider diversity of the train images.  \n",
    "2) As always with data science, a larger training dataset could improve performance.\n",
    "3) Finally we could attempt to use different models, such as attempting to utilise transfer learning on other models. "
   ]
  },
  {
   "cell_type": "markdown",
   "metadata": {},
   "source": [
    "#### Test 1 "
   ]
  },
  {
   "cell_type": "code",
   "execution_count": 32,
   "metadata": {},
   "outputs": [],
   "source": [
    "## TODO: Execute your algorithm from Step 6 on\n",
    "## at least 6 images on your computer.\n",
    "## Feel free to use as many code cells as needed."
   ]
  },
  {
   "cell_type": "code",
   "execution_count": 33,
   "metadata": {},
   "outputs": [
    {
     "data": {
      "text/plain": [
       "'This looks like a human face! If it were a dog though, I think it is a  English_toy_spaniel'"
      ]
     },
     "execution_count": 33,
     "metadata": {},
     "output_type": "execute_result"
    }
   ],
   "source": [
    "dog_predictor(r'../dog-project/images/M.jpg')"
   ]
  },
  {
   "cell_type": "markdown",
   "metadata": {},
   "source": [
    "This is not a human! Have a look and see if we can see where to face is being detected"
   ]
  },
  {
   "cell_type": "code",
   "execution_count": 34,
   "metadata": {},
   "outputs": [
    {
     "name": "stdout",
     "output_type": "stream",
     "text": [
      "Number of faces detected: 1\n"
     ]
    },
    {
     "data": {
      "image/png": "[encoded data removed]",
      "text/plain": [
       "<matplotlib.figure.Figure at 0x7f523f075b00>"
      ]
     },
     "metadata": {
      "needs_background": "light"
     },
     "output_type": "display_data"
    }
   ],
   "source": [
    "# extract pre-trained face detector\n",
    "face_cascade = cv2.CascadeClassifier('haarcascades/haarcascade_frontalface_alt.xml')\n",
    "\n",
    "# load color (BGR) image\n",
    "img = cv2.imread(r'../dog-project/images/M.jpg')\n",
    "# convert BGR image to grayscale\n",
    "gray = cv2.cvtColor(img, cv2.COLOR_BGR2GRAY)\n",
    "\n",
    "# find faces in image\n",
    "faces = face_cascade.detectMultiScale(gray)\n",
    "\n",
    "# print number of faces detected in the image\n",
    "print('Number of faces detected:', len(faces))\n",
    "\n",
    "# get bounding box for each detected face\n",
    "for (x,y,w,h) in faces:\n",
    "    # add bounding box to color image\n",
    "    cv2.rectangle(img,(x,y),(x+w,y+h),(255,0,0),2)\n",
    "    \n",
    "# convert BGR image to RGB for plotting\n",
    "cv_rgb = cv2.cvtColor(img, cv2.COLOR_BGR2RGB)\n",
    "\n",
    "# display the image, along with bounding box\n",
    "plt.imshow(cv_rgb)\n",
    "plt.show()"
   ]
  },
  {
   "cell_type": "markdown",
   "metadata": {},
   "source": [
    "#### Test 2\n"
   ]
  },
  {
   "cell_type": "code",
   "execution_count": 35,
   "metadata": {},
   "outputs": [
    {
     "data": {
      "text/plain": [
       "'This looks like a dog! I think it might be a Chinese_shar-pei'"
      ]
     },
     "execution_count": 35,
     "metadata": {},
     "output_type": "execute_result"
    }
   ],
   "source": [
    "dog_predictor(r'../dog-project/images/1280px-Doug_the_Pug_NYC.jpg')"
   ]
  },
  {
   "cell_type": "markdown",
   "metadata": {},
   "source": [
    "#### Test 3"
   ]
  },
  {
   "cell_type": "code",
   "execution_count": 85,
   "metadata": {},
   "outputs": [
    {
     "data": {
      "text/plain": [
       "'This looks like a human face! If it were a dog though, I think it is a  German_shepherd_dog'"
      ]
     },
     "execution_count": 85,
     "metadata": {},
     "output_type": "execute_result"
    }
   ],
   "source": [
    "dog_predictor(r'../dog-project/images/German_Shepherd.jpg')"
   ]
  },
  {
   "cell_type": "markdown",
   "metadata": {},
   "source": [
    "#### Test 4"
   ]
  },
  {
   "cell_type": "code",
   "execution_count": 86,
   "metadata": {},
   "outputs": [
    {
     "data": {
      "text/plain": [
       "'This looks like a dog! I think it might be a Dachshund'"
      ]
     },
     "execution_count": 86,
     "metadata": {},
     "output_type": "execute_result"
    }
   ],
   "source": [
    "dog_predictor(r'../dog-project/images/Short-haired-Dachshund.jpg')"
   ]
  },
  {
   "cell_type": "markdown",
   "metadata": {},
   "source": [
    "#### Human Tests"
   ]
  },
  {
   "cell_type": "code",
   "execution_count": 81,
   "metadata": {},
   "outputs": [],
   "source": [
    "def humantest (file_list):\n",
    "    \n",
    "    ''' Unit test for human test images\n",
    "    INPUT: List of human files\n",
    "    OUTPUT: Prediction. \n",
    "    '''\n",
    "    test=0\n",
    "    for file in file_list:\n",
    "        test+=1\n",
    "        print(f'Test {str(test)}')\n",
    "        print(dog_predictor(file))"
   ]
  },
  {
   "cell_type": "code",
   "execution_count": 82,
   "metadata": {},
   "outputs": [],
   "source": [
    "file_list = [\n",
    "    r'../dog-project/images/dwayne-the-rock-.jpg',\n",
    "    r'../dog-project/images/Trump.jpg'    \n",
    "]"
   ]
  },
  {
   "cell_type": "code",
   "execution_count": 83,
   "metadata": {},
   "outputs": [
    {
     "name": "stdout",
     "output_type": "stream",
     "text": [
      "Test 1\n",
      "This looks like a human face! If it were a dog though, I think it is a  French_bulldog\n",
      "Test 2\n",
      "This looks like a human face! If it were a dog though, I think it is a  Silky_terrier\n"
     ]
    }
   ],
   "source": [
    "humantest(file_list)"
   ]
  },
  {
   "cell_type": "code",
   "execution_count": null,
   "metadata": {},
   "outputs": [],
   "source": []
  }
 ],
 "metadata": {
  "anaconda-cloud": {},
  "kernelspec": {
   "display_name": "Python 3",
   "language": "python",
   "name": "python3"
  },
  "language_info": {
   "codemirror_mode": {
    "name": "ipython",
    "version": 3
   },
   "file_extension": ".py",
   "mimetype": "text/x-python",
   "name": "python",
   "nbconvert_exporter": "python",
   "pygments_lexer": "ipython3",
   "version": "3.6.3"
  }
 },
 "nbformat": 4,
 "nbformat_minor": 1
}
